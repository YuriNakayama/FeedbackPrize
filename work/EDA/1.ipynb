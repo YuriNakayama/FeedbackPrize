{
 "cells": [
  {
   "cell_type": "code",
   "execution_count": 2,
   "id": "157a70b8",
   "metadata": {
    "ExecuteTime": {
     "end_time": "2022-07-23T08:13:50.573338Z",
     "start_time": "2022-07-23T08:13:49.725261Z"
    }
   },
   "outputs": [],
   "source": [
    "import os\n",
    "import sys\n",
    "from collections import Counter\n",
    "from glob import glob\n",
    "\n",
    "import matplotlib.pyplot as plt\n",
    "import pandas as pd"
   ]
  },
  {
   "cell_type": "code",
   "execution_count": 3,
   "id": "93264574",
   "metadata": {
    "ExecuteTime": {
     "end_time": "2022-07-23T08:13:50.578216Z",
     "start_time": "2022-07-23T08:13:50.575496Z"
    }
   },
   "outputs": [],
   "source": [
    "pd.set_option('display.max_columns', 100)\n",
    "pd.set_option('display.max_rows', 100)"
   ]
  },
  {
   "cell_type": "code",
   "execution_count": 11,
   "id": "c3525879",
   "metadata": {
    "ExecuteTime": {
     "end_time": "2022-07-23T08:14:03.921041Z",
     "start_time": "2022-07-23T08:14:03.918328Z"
    }
   },
   "outputs": [],
   "source": [
    "data_path = \"/home/jovyan/work/data/\"\n",
    "sys.path.append(data_path)"
   ]
  },
  {
   "cell_type": "code",
   "execution_count": 12,
   "id": "79bc2482",
   "metadata": {
    "ExecuteTime": {
     "end_time": "2022-07-23T08:14:04.424924Z",
     "start_time": "2022-07-23T08:14:04.419413Z"
    }
   },
   "outputs": [],
   "source": [
    "test = pd.read_csv(f'{data_path}/test.csv')"
   ]
  },
  {
   "cell_type": "code",
   "execution_count": 13,
   "id": "772dcf3b",
   "metadata": {
    "ExecuteTime": {
     "end_time": "2022-07-23T08:14:07.414001Z",
     "start_time": "2022-07-23T08:14:07.285200Z"
    }
   },
   "outputs": [],
   "source": [
    "train_master = pd.read_csv(f'{data_path}/train.csv')"
   ]
  },
  {
   "cell_type": "code",
   "execution_count": 14,
   "id": "a23a6a69",
   "metadata": {
    "ExecuteTime": {
     "end_time": "2022-07-23T08:14:08.368476Z",
     "start_time": "2022-07-23T08:14:08.365478Z"
    }
   },
   "outputs": [],
   "source": [
    "tests = glob(f'{data_path}/test/*')"
   ]
  },
  {
   "cell_type": "code",
   "execution_count": 15,
   "id": "d93d55fc",
   "metadata": {
    "ExecuteTime": {
     "end_time": "2022-07-23T08:14:08.556947Z",
     "start_time": "2022-07-23T08:14:08.553314Z"
    }
   },
   "outputs": [
    {
     "name": "stdout",
     "output_type": "stream",
     "text": [
      "Making choices in life can be very difficult. People often ask for advice when they can not decide on one thing. It's always good to ask others for their advice when making a choice. When you have multiple opinions you have the ability to make the best choice for yourself. Seeking multiple opinions can help a person make a better choice because it can decrease stress levels, a great chance to learn something new, can be very helpful and beneficial.\n",
      "\n",
      "To begin with, Seeking information from more than one person can decrease stress levels. When making a decision there is a chance that you can become very stressed and overwhelmed. Being stressed can cause a person to give up on what they are doing. Having multiple opinions from people can make choosing an option less difficult and more easier. The information that you receive from others may have a special meaning in the future. Other peoples opinion can make a person feel confident in making the right choice.\n",
      "\n",
      "When you ask other people for their opinion you can also learn many new things. Everyone is different and may have more experience than you. Seeking other peoples opinion can cause you to gain a new skill or lesson. For example, someones advice could teach you how to do something the correct way. Many people are very different and have experience different things in life. Seeking advice from others can teach you a lot. We all learn from our mistakes in life, by sharing your past experiences you may prevent someone else from making the same mistake.\n",
      "\n",
      "Seeking others opinion can be very helpful and beneficial. Taking other peoples advice and doing what they say may lead to a great outcome. When you receive other opinions whether they are good or bad you will be able to look at them from a different point of view. For example, When a group of people give you advice on yourself, you then know how they look at you as a person. Everyone looks at certain things from a different prospective. How someone else looks at it may be how its supposed to be viewed in life.\n",
      "\n",
      "In conclusion, You can learn from others experiences by seeking the advice that someone give you. Making decisions can cause stress on a person. Relating to someones advice may higher your self-esteem because you no longer feel left out. Ask others for advice when making a difficult decision. When you seek others opinion more opportunities are available fro yourself. \n"
     ]
    }
   ],
   "source": [
    "with open(tests[0], 'r') as f:\n",
    "    print(f.read())"
   ]
  },
  {
   "cell_type": "code",
   "execution_count": 16,
   "id": "b9a0093e",
   "metadata": {
    "ExecuteTime": {
     "end_time": "2022-07-23T08:14:08.738653Z",
     "start_time": "2022-07-23T08:14:08.725344Z"
    }
   },
   "outputs": [
    {
     "data": {
      "text/plain": [
       "Adequate       20977\n",
       "Effective       9326\n",
       "Ineffective     6462\n",
       "Name: discourse_effectiveness, dtype: int64"
      ]
     },
     "execution_count": 16,
     "metadata": {},
     "output_type": "execute_result"
    }
   ],
   "source": [
    "train_master.discourse_effectiveness.value_counts()"
   ]
  },
  {
   "cell_type": "code",
   "execution_count": 23,
   "id": "4d70c774",
   "metadata": {
    "ExecuteTime": {
     "end_time": "2022-07-23T08:16:21.793549Z",
     "start_time": "2022-07-23T08:16:21.786210Z"
    }
   },
   "outputs": [
    {
     "data": {
      "text/plain": [
       "Evidence                32.925337\n",
       "Claim                   32.577179\n",
       "Position                10.945192\n",
       "Concluding Statement     9.114647\n",
       "Lead                     6.231470\n",
       "Counterclaim             4.822521\n",
       "Rebuttal                 3.383653\n",
       "Name: discourse_type, dtype: float64"
      ]
     },
     "execution_count": 23,
     "metadata": {},
     "output_type": "execute_result"
    }
   ],
   "source": [
    "train_master.discourse_type.value_counts() * 100 / len(train_master)"
   ]
  },
  {
   "cell_type": "code",
   "execution_count": 18,
   "id": "a6466274",
   "metadata": {
    "ExecuteTime": {
     "end_time": "2022-07-23T08:14:09.993694Z",
     "start_time": "2022-07-23T08:14:09.725341Z"
    }
   },
   "outputs": [],
   "source": [
    "words = train_master[\"discourse_text\"].str.split(' ')\n",
    "train_master[\"text_length\"] = words.apply(len)"
   ]
  },
  {
   "cell_type": "code",
   "execution_count": 19,
   "id": "18f1bc78",
   "metadata": {
    "ExecuteTime": {
     "end_time": "2022-07-23T08:14:10.172849Z",
     "start_time": "2022-07-23T08:14:09.995730Z"
    },
    "scrolled": true
   },
   "outputs": [
    {
     "data": {
      "text/plain": [
       "(array([2.4044e+04, 7.4100e+03, 3.0390e+03, 1.2530e+03, 5.6200e+02,\n",
       "        2.3600e+02, 9.4000e+01, 5.9000e+01, 3.2000e+01, 1.1000e+01,\n",
       "        7.0000e+00, 7.0000e+00, 6.0000e+00, 1.0000e+00, 1.0000e+00,\n",
       "        0.0000e+00, 2.0000e+00, 0.0000e+00, 0.0000e+00, 1.0000e+00]),\n",
       " array([  2.  ,  43.45,  84.9 , 126.35, 167.8 , 209.25, 250.7 , 292.15,\n",
       "        333.6 , 375.05, 416.5 , 457.95, 499.4 , 540.85, 582.3 , 623.75,\n",
       "        665.2 , 706.65, 748.1 , 789.55, 831.  ]),\n",
       " <BarContainer object of 20 artists>)"
      ]
     },
     "execution_count": 19,
     "metadata": {},
     "output_type": "execute_result"
    },
    {
     "data": {
      "image/png": "[encoded data removed]",
      "text/plain": [
       "<Figure size 432x288 with 1 Axes>"
      ]
     },
     "metadata": {
      "needs_background": "light"
     },
     "output_type": "display_data"
    }
   ],
   "source": [
    "plt.hist(train_master[\"text_length\"], bins=20)"
   ]
  },
  {
   "cell_type": "code",
   "execution_count": 20,
   "id": "518f96e8",
   "metadata": {
    "ExecuteTime": {
     "end_time": "2022-07-23T08:14:11.974280Z",
     "start_time": "2022-07-23T08:14:11.965331Z"
    },
    "scrolled": true
   },
   "outputs": [
    {
     "data": {
      "text/plain": [
       "count    36765.000000\n",
       "mean        45.721637\n",
       "std         46.641451\n",
       "min          2.000000\n",
       "25%         17.000000\n",
       "50%         29.000000\n",
       "75%         58.000000\n",
       "max        831.000000\n",
       "Name: text_length, dtype: float64"
      ]
     },
     "execution_count": 20,
     "metadata": {},
     "output_type": "execute_result"
    }
   ],
   "source": [
    "train_master[\"text_length\"].describe()"
   ]
  },
  {
   "cell_type": "code",
   "execution_count": 21,
   "id": "0ab25d3e",
   "metadata": {
    "ExecuteTime": {
     "end_time": "2022-07-23T08:14:18.342290Z",
     "start_time": "2022-07-23T08:14:18.285553Z"
    }
   },
   "outputs": [],
   "source": [
    "specific_word = '\\\\n'\n",
    "text_specific_word = train_master[train_master.discourse_text.str.contains(specific_word)].discourse_text\n",
    "text_specific_word.to_csv(data_path+ \"EDA/specific_word.csv\")"
   ]
  },
  {
   "cell_type": "code",
   "execution_count": 22,
   "id": "68723de7",
   "metadata": {
    "ExecuteTime": {
     "end_time": "2022-07-23T08:14:23.908941Z",
     "start_time": "2022-07-23T08:14:23.899406Z"
    }
   },
   "outputs": [],
   "source": [
    "effectiveness = \"Ineffective\"\n",
    "text_effectiveness = train_master[train_master.discourse_effectiveness==effectiveness].head(100)\n",
    "text_effectiveness.to_csv(data_path+\"EDA/effectiveness.csv\")"
   ]
  },
  {
   "cell_type": "code",
   "execution_count": null,
   "id": "1a94e240",
   "metadata": {},
   "outputs": [],
   "source": []
  }
 ],
 "metadata": {
  "kernelspec": {
   "display_name": "Python 3 (ipykernel)",
   "language": "python",
   "name": "python3"
  },
  "language_info": {
   "codemirror_mode": {
    "name": "ipython",
    "version": 3
   },
   "file_extension": ".py",
   "mimetype": "text/x-python",
   "name": "python",
   "nbconvert_exporter": "python",
   "pygments_lexer": "ipython3",
   "version": "3.10.5"
  },
  "toc": {
   "base_numbering": 1,
   "nav_menu": {},
   "number_sections": true,
   "sideBar": true,
   "skip_h1_title": false,
   "title_cell": "Table of Contents",
   "title_sidebar": "Contents",
   "toc_cell": false,
   "toc_position": {},
   "toc_section_display": true,
   "toc_window_display": false
  }
 },
 "nbformat": 4,
 "nbformat_minor": 5
}

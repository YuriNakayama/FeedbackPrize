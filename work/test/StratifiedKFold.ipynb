{
 "cells": [
  {
   "cell_type": "code",
   "execution_count": 1,
   "id": "5f6d9a20",
   "metadata": {
    "ExecuteTime": {
     "end_time": "2022-07-16T07:02:36.860133Z",
     "start_time": "2022-07-16T07:02:36.264564Z"
    }
   },
   "outputs": [],
   "source": [
    "import pandas as pd\n",
    "from sklearn.model_selection import StratifiedKFold"
   ]
  },
  {
   "cell_type": "code",
   "execution_count": 2,
   "id": "95fa2b3e",
   "metadata": {
    "ExecuteTime": {
     "end_time": "2022-07-16T07:02:36.865329Z",
     "start_time": "2022-07-16T07:02:36.862229Z"
    }
   },
   "outputs": [],
   "source": [
    "pd.set_option(\"display.max_column\", 100)\n",
    "pd.set_option(\"display.max_row\", 100)"
   ]
  },
  {
   "cell_type": "code",
   "execution_count": 3,
   "id": "dbd3cb82",
   "metadata": {
    "ExecuteTime": {
     "end_time": "2022-07-16T07:02:37.006141Z",
     "start_time": "2022-07-16T07:02:36.867338Z"
    }
   },
   "outputs": [],
   "source": [
    "df = pd.read_csv(\n",
    "    \"/home/jovyan/work/data/train.csv\",\n",
    "    index_col=\"discourse_id\",\n",
    ")"
   ]
  },
  {
   "cell_type": "code",
   "execution_count": 4,
   "id": "7987f8a2",
   "metadata": {
    "ExecuteTime": {
     "end_time": "2022-07-16T07:02:37.013048Z",
     "start_time": "2022-07-16T07:02:37.008306Z"
    }
   },
   "outputs": [],
   "source": [
    "X = df.drop(\"discourse_effectiveness\", axis=1)\n",
    "y = df[[\"discourse_effectiveness\"]]"
   ]
  },
  {
   "cell_type": "code",
   "execution_count": 5,
   "id": "cb942887",
   "metadata": {
    "ExecuteTime": {
     "end_time": "2022-07-16T07:02:37.018043Z",
     "start_time": "2022-07-16T07:02:37.015111Z"
    }
   },
   "outputs": [],
   "source": [
    "skf = StratifiedKFold(n_splits=5, random_state=None)"
   ]
  },
  {
   "cell_type": "code",
   "execution_count": 12,
   "id": "49d81a7d",
   "metadata": {
    "ExecuteTime": {
     "end_time": "2022-07-16T07:03:48.245143Z",
     "start_time": "2022-07-16T07:03:48.215007Z"
    }
   },
   "outputs": [
    {
     "name": "stdout",
     "output_type": "stream",
     "text": [
      "[ 6741  6742  6758 ... 36762 36763 36764] [   0    1    2 ... 7696 7697 7736]\n",
      "29412\n",
      "[    0     1     2 ... 36762 36763 36764] [ 6741  6742  6758 ... 16318 16379 16380]\n",
      "29412\n",
      "[    0     1     2 ... 36762 36763 36764] [13172 13174 13175 ... 24620 24621 24622]\n",
      "29412\n",
      "[    0     1     2 ... 36762 36763 36764] [19898 19904 19916 ... 32879 32880 32882]\n",
      "29412\n",
      "[    0     1     2 ... 32879 32880 32882] [27371 27372 27374 ... 36762 36763 36764]\n",
      "29412\n"
     ]
    }
   ],
   "source": [
    "for train_index, valid_test_index in skf.split(X, y):\n",
    "    print(train_index, valid_test_index)\n",
    "    print(len(train_index))"
   ]
  },
  {
   "cell_type": "code",
   "execution_count": 17,
   "id": "49508bd2",
   "metadata": {
    "ExecuteTime": {
     "end_time": "2022-07-16T07:49:09.893529Z",
     "start_time": "2022-07-16T07:49:09.864799Z"
    }
   },
   "outputs": [],
   "source": [
    "folds = [\n",
    "        (train_indices, valid_indices)\n",
    "        for train_indices, valid_indices in skf.split(X, y)\n",
    "]"
   ]
  },
  {
   "cell_type": "code",
   "execution_count": 19,
   "id": "be11b46e",
   "metadata": {
    "ExecuteTime": {
     "end_time": "2022-07-16T07:50:03.352468Z",
     "start_time": "2022-07-16T07:50:03.348059Z"
    }
   },
   "outputs": [
    {
     "data": {
      "text/plain": [
       "(array([ 6741,  6742,  6758, ..., 36762, 36763, 36764]),\n",
       " array([   0,    1,    2, ..., 7696, 7697, 7736]))"
      ]
     },
     "execution_count": 19,
     "metadata": {},
     "output_type": "execute_result"
    }
   ],
   "source": [
    "folds[0]"
   ]
  },
  {
   "cell_type": "code",
   "execution_count": 13,
   "id": "42a16ee2",
   "metadata": {
    "ExecuteTime": {
     "end_time": "2022-07-16T07:04:11.539819Z",
     "start_time": "2022-07-16T07:04:11.528705Z"
    },
    "collapsed": true
   },
   "outputs": [
    {
     "data": {
      "text/html": [
       "<div>\n",
       "<style scoped>\n",
       "    .dataframe tbody tr th:only-of-type {\n",
       "        vertical-align: middle;\n",
       "    }\n",
       "\n",
       "    .dataframe tbody tr th {\n",
       "        vertical-align: top;\n",
       "    }\n",
       "\n",
       "    .dataframe thead th {\n",
       "        text-align: right;\n",
       "    }\n",
       "</style>\n",
       "<table border=\"1\" class=\"dataframe\">\n",
       "  <thead>\n",
       "    <tr style=\"text-align: right;\">\n",
       "      <th></th>\n",
       "      <th>essay_id</th>\n",
       "      <th>discourse_text</th>\n",
       "      <th>discourse_type</th>\n",
       "    </tr>\n",
       "    <tr>\n",
       "      <th>discourse_id</th>\n",
       "      <th></th>\n",
       "      <th></th>\n",
       "      <th></th>\n",
       "    </tr>\n",
       "  </thead>\n",
       "  <tbody>\n",
       "    <tr>\n",
       "      <th>0013cc385424</th>\n",
       "      <td>007ACE74B050</td>\n",
       "      <td>Hi, i'm Isaac, i'm going to be writing about h...</td>\n",
       "      <td>Lead</td>\n",
       "    </tr>\n",
       "    <tr>\n",
       "      <th>9704a709b505</th>\n",
       "      <td>007ACE74B050</td>\n",
       "      <td>On my perspective, I think that the face is a ...</td>\n",
       "      <td>Position</td>\n",
       "    </tr>\n",
       "    <tr>\n",
       "      <th>c22adee811b6</th>\n",
       "      <td>007ACE74B050</td>\n",
       "      <td>I think that the face is a natural landform be...</td>\n",
       "      <td>Claim</td>\n",
       "    </tr>\n",
       "    <tr>\n",
       "      <th>a10d361e54e4</th>\n",
       "      <td>007ACE74B050</td>\n",
       "      <td>If life was on Mars, we would know by now. The...</td>\n",
       "      <td>Evidence</td>\n",
       "    </tr>\n",
       "    <tr>\n",
       "      <th>db3e453ec4e2</th>\n",
       "      <td>007ACE74B050</td>\n",
       "      <td>People thought that the face was formed by ali...</td>\n",
       "      <td>Counterclaim</td>\n",
       "    </tr>\n",
       "    <tr>\n",
       "      <th>...</th>\n",
       "      <td>...</td>\n",
       "      <td>...</td>\n",
       "      <td>...</td>\n",
       "    </tr>\n",
       "    <tr>\n",
       "      <th>9f63b687e76a</th>\n",
       "      <td>FFA381E58FC6</td>\n",
       "      <td>For many people they don't like only asking on...</td>\n",
       "      <td>Claim</td>\n",
       "    </tr>\n",
       "    <tr>\n",
       "      <th>9d5bd7d86212</th>\n",
       "      <td>FFA381E58FC6</td>\n",
       "      <td>also people have different views and opinions ...</td>\n",
       "      <td>Claim</td>\n",
       "    </tr>\n",
       "    <tr>\n",
       "      <th>f1b78becd573</th>\n",
       "      <td>FFA381E58FC6</td>\n",
       "      <td>Advice is something that can impact a persons ...</td>\n",
       "      <td>Position</td>\n",
       "    </tr>\n",
       "    <tr>\n",
       "      <th>cc184624ca8e</th>\n",
       "      <td>FFA381E58FC6</td>\n",
       "      <td>someone can use everything that many people sa...</td>\n",
       "      <td>Evidence</td>\n",
       "    </tr>\n",
       "    <tr>\n",
       "      <th>c8a973681feb</th>\n",
       "      <td>FFA381E58FC6</td>\n",
       "      <td>In conclusion asking for an opinion can be ben...</td>\n",
       "      <td>Concluding Statement</td>\n",
       "    </tr>\n",
       "  </tbody>\n",
       "</table>\n",
       "<p>36765 rows × 3 columns</p>\n",
       "</div>"
      ],
      "text/plain": [
       "                  essay_id                                     discourse_text  \\\n",
       "discourse_id                                                                    \n",
       "0013cc385424  007ACE74B050  Hi, i'm Isaac, i'm going to be writing about h...   \n",
       "9704a709b505  007ACE74B050  On my perspective, I think that the face is a ...   \n",
       "c22adee811b6  007ACE74B050  I think that the face is a natural landform be...   \n",
       "a10d361e54e4  007ACE74B050  If life was on Mars, we would know by now. The...   \n",
       "db3e453ec4e2  007ACE74B050  People thought that the face was formed by ali...   \n",
       "...                    ...                                                ...   \n",
       "9f63b687e76a  FFA381E58FC6  For many people they don't like only asking on...   \n",
       "9d5bd7d86212  FFA381E58FC6  also people have different views and opinions ...   \n",
       "f1b78becd573  FFA381E58FC6  Advice is something that can impact a persons ...   \n",
       "cc184624ca8e  FFA381E58FC6  someone can use everything that many people sa...   \n",
       "c8a973681feb  FFA381E58FC6  In conclusion asking for an opinion can be ben...   \n",
       "\n",
       "                    discourse_type  \n",
       "discourse_id                        \n",
       "0013cc385424                  Lead  \n",
       "9704a709b505              Position  \n",
       "c22adee811b6                 Claim  \n",
       "a10d361e54e4              Evidence  \n",
       "db3e453ec4e2          Counterclaim  \n",
       "...                            ...  \n",
       "9f63b687e76a                 Claim  \n",
       "9d5bd7d86212                 Claim  \n",
       "f1b78becd573              Position  \n",
       "cc184624ca8e              Evidence  \n",
       "c8a973681feb  Concluding Statement  \n",
       "\n",
       "[36765 rows x 3 columns]"
      ]
     },
     "execution_count": 13,
     "metadata": {},
     "output_type": "execute_result"
    }
   ],
   "source": [
    "X"
   ]
  },
  {
   "cell_type": "code",
   "execution_count": 10,
   "id": "cdf5089a",
   "metadata": {
    "ExecuteTime": {
     "end_time": "2022-07-16T07:03:12.563619Z",
     "start_time": "2022-07-16T07:03:12.559582Z"
    }
   },
   "outputs": [
    {
     "data": {
      "text/plain": [
       "29412"
      ]
     },
     "execution_count": 10,
     "metadata": {},
     "output_type": "execute_result"
    }
   ],
   "source": [
    "len(train_index)"
   ]
  },
  {
   "cell_type": "code",
   "execution_count": 11,
   "id": "4871f895",
   "metadata": {
    "ExecuteTime": {
     "end_time": "2022-07-16T07:03:13.323127Z",
     "start_time": "2022-07-16T07:03:13.319373Z"
    }
   },
   "outputs": [
    {
     "data": {
      "text/plain": [
       "7353"
      ]
     },
     "execution_count": 11,
     "metadata": {},
     "output_type": "execute_result"
    }
   ],
   "source": [
    "len(valid_test_index)"
   ]
  },
  {
   "cell_type": "code",
   "execution_count": null,
   "id": "dd5258dc",
   "metadata": {},
   "outputs": [],
   "source": []
  }
 ],
 "metadata": {
  "kernelspec": {
   "display_name": "Python 3 (ipykernel)",
   "language": "python",
   "name": "python3"
  },
  "language_info": {
   "codemirror_mode": {
    "name": "ipython",
    "version": 3
   },
   "file_extension": ".py",
   "mimetype": "text/x-python",
   "name": "python",
   "nbconvert_exporter": "python",
   "pygments_lexer": "ipython3",
   "version": "3.10.5"
  },
  "toc": {
   "base_numbering": 1,
   "nav_menu": {},
   "number_sections": true,
   "sideBar": true,
   "skip_h1_title": false,
   "title_cell": "Table of Contents",
   "title_sidebar": "Contents",
   "toc_cell": false,
   "toc_position": {},
   "toc_section_display": true,
   "toc_window_display": false
  }
 },
 "nbformat": 4,
 "nbformat_minor": 5
}

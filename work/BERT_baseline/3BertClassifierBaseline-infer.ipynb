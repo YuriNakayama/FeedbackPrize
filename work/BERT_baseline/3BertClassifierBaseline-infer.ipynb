{
 "cells": [
  {
   "cell_type": "markdown",
   "id": "72bf1e6f",
   "metadata": {},
   "source": [
    "# import"
   ]
  },
  {
   "cell_type": "code",
   "execution_count": 57,
   "id": "9cda5c0c",
   "metadata": {
    "ExecuteTime": {
     "end_time": "2022-07-21T18:46:49.825333Z",
     "start_time": "2022-07-21T18:46:49.821255Z"
    }
   },
   "outputs": [],
   "source": [
    "import gc\n",
    "import os\n",
    "import re\n",
    "import sys\n",
    "import time\n",
    "import warnings\n",
    "\n",
    "import matplotlib.pyplot as plt\n",
    "import numpy as np\n",
    "import pandas as pd\n",
    "import torch\n",
    "from matplotlib import pyplot as plt\n",
    "from sklearn.metrics import (accuracy_score, f1_score, precision_score,\n",
    "                             recall_score)\n",
    "from sklearn.model_selection import StratifiedKFold, train_test_split\n",
    "from torch import nn, optim\n",
    "from torch.utils.checkpoint import checkpoint\n",
    "from torch.utils.data import DataLoader, Dataset\n",
    "from tqdm import tqdm\n",
    "from transformers import AutoConfig, AutoModel, AutoTokenizer"
   ]
  },
  {
   "cell_type": "code",
   "execution_count": 2,
   "id": "38091ea2",
   "metadata": {
    "ExecuteTime": {
     "end_time": "2022-07-21T17:48:20.900137Z",
     "start_time": "2022-07-21T17:48:20.896641Z"
    }
   },
   "outputs": [],
   "source": [
    "pd.set_option(\"display.max_column\", 100)\n",
    "pd.set_option(\"display.max_row\", 100)"
   ]
  },
  {
   "cell_type": "markdown",
   "id": "b471a1df",
   "metadata": {},
   "source": [
    "# パラメータの設定"
   ]
  },
  {
   "cell_type": "code",
   "execution_count": 3,
   "id": "9b446a55",
   "metadata": {
    "ExecuteTime": {
     "end_time": "2022-07-21T17:48:20.933589Z",
     "start_time": "2022-07-21T17:48:20.902058Z"
    },
    "code_folding": []
   },
   "outputs": [],
   "source": [
    "# パラメータの設定\n",
    "MODELNAME=\"bert-base-uncased\"\n",
    "config = AutoConfig.from_pretrained(MODELNAME).to_dict()\n",
    "config[\"drop_rate\"] = 0.4\n",
    "config[\"output_size\"] = 3\n",
    "config[\"train_batch_size\"] = 180\n",
    "config[\"valid_batch_size\"] = 60\n",
    "config[\"num_epochs\"] = 1\n",
    "config[\"learning_rate\"] = 1e-4\n",
    "config[\"model_name\"] = MODELNAME\n",
    "config[\"max_token_len\"] = 128\n",
    "config[\"fold_split\"] = 5\n",
    "config[\"gradient_checkpoint\"] = True\n",
    "config[\"freezing\"] = True\n",
    "config[\"header_type\"] = \"Linear\""
   ]
  },
  {
   "cell_type": "markdown",
   "id": "d2a9f556",
   "metadata": {},
   "source": [
    "# データの読み込み"
   ]
  },
  {
   "cell_type": "code",
   "execution_count": 4,
   "id": "640c2196",
   "metadata": {
    "ExecuteTime": {
     "end_time": "2022-07-21T17:48:20.948780Z",
     "start_time": "2022-07-21T17:48:20.935768Z"
    },
    "code_folding": []
   },
   "outputs": [],
   "source": [
    "df = pd.read_csv(\n",
    "    \"/home/jovyan/work/data/train.csv\",\n",
    "    index_col=\"discourse_id\",\n",
    "    nrows=1000\n",
    ")"
   ]
  },
  {
   "cell_type": "markdown",
   "id": "321e5752",
   "metadata": {},
   "source": [
    "## データのラベル定義"
   ]
  },
  {
   "cell_type": "code",
   "execution_count": 5,
   "id": "2d318091",
   "metadata": {
    "ExecuteTime": {
     "end_time": "2022-07-21T17:48:20.955512Z",
     "start_time": "2022-07-21T17:48:20.950827Z"
    }
   },
   "outputs": [],
   "source": [
    "discourse_types = [\"Lead\", \"Position\", \"Claim\", \"Evidence\", \"Counterclaim\", \"Concluding Statement\", \"Rebuttal\"]\n",
    "target_col_names = [\"Adequate\", \"Effective\", \"Ineffective\"]"
   ]
  },
  {
   "cell_type": "markdown",
   "id": "33623ba2",
   "metadata": {},
   "source": [
    "## データ整形"
   ]
  },
  {
   "cell_type": "code",
   "execution_count": 6,
   "id": "4b2235a1",
   "metadata": {
    "ExecuteTime": {
     "end_time": "2022-07-21T17:48:21.176572Z",
     "start_time": "2022-07-21T17:48:20.957251Z"
    },
    "code_folding": []
   },
   "outputs": [],
   "source": [
    "#下処理:discourse_typeとdiscourse_textを結合する\n",
    "sep = AutoTokenizer.from_pretrained(config[\"model_name\"]).sep_token\n",
    "df[\"inputs\"] = df.discourse_type + sep + df.discourse_text"
   ]
  },
  {
   "cell_type": "code",
   "execution_count": 7,
   "id": "15ff8efd",
   "metadata": {
    "ExecuteTime": {
     "end_time": "2022-07-21T17:48:21.185272Z",
     "start_time": "2022-07-21T17:48:21.178385Z"
    }
   },
   "outputs": [],
   "source": [
    "# データの分割\n",
    "df_train_valid, df_test = train_test_split(\n",
    "    df, test_size=0.2, shuffle=True, random_state=0, stratify=df[\"discourse_effectiveness\"]\n",
    ")"
   ]
  },
  {
   "cell_type": "markdown",
   "id": "050c041a",
   "metadata": {},
   "source": [
    "## tokenizer, Dataset, BERTClassの定義"
   ]
  },
  {
   "cell_type": "code",
   "execution_count": 8,
   "id": "6ed5c9f1",
   "metadata": {
    "ExecuteTime": {
     "end_time": "2022-07-21T17:48:21.193938Z",
     "start_time": "2022-07-21T17:48:21.187664Z"
    },
    "code_folding": [
     1
    ]
   },
   "outputs": [],
   "source": [
    "#textをtokenizeするクラス(前処理)\n",
    "class tokenize(object):\n",
    "    def __init__(self, tokenizer, max_len):\n",
    "        self.tokenizer = tokenizer\n",
    "        self.max_len = max_len\n",
    "\n",
    "    def __call__(self, text):\n",
    "        inputs = self.tokenizer.encode_plus(\n",
    "            text,\n",
    "            add_special_tokens=True,\n",
    "            max_length=self.max_len,\n",
    "            padding=\"max_length\",\n",
    "            truncation=True\n",
    "        )\n",
    "        input_ids = inputs[\"input_ids\"]\n",
    "        attention_mask = inputs[\"attention_mask\"]\n",
    "        token_type_ids = inputs[\"token_type_ids\"]\n",
    "\n",
    "        return {\n",
    "            \"input_ids\": torch.LongTensor(input_ids),\n",
    "            \"attention_mask\": torch.LongTensor(attention_mask),\n",
    "            \"token_type_ids\": torch.LongTensor(token_type_ids),\n",
    "        }"
   ]
  },
  {
   "cell_type": "code",
   "execution_count": 9,
   "id": "806f1a8e",
   "metadata": {
    "ExecuteTime": {
     "end_time": "2022-07-21T17:48:21.201926Z",
     "start_time": "2022-07-21T17:48:21.196307Z"
    },
    "code_folding": [
     1
    ]
   },
   "outputs": [],
   "source": [
    "# Datasetの定義\n",
    "class CreateDataset(Dataset):\n",
    "    def __init__(self, X, y, transform):\n",
    "        self.X = X\n",
    "        self.y = y\n",
    "        self.transform=transform\n",
    "    def __len__(self):  # len(Dataset)で返す値を指定\n",
    "        return len(self.y)\n",
    "\n",
    "    def __getitem__(self, index):  # Dataset[index]で返す値を指定\n",
    "        text = self.X[index]\n",
    "        output_dict = self.transform(text)\n",
    "        output_dict[\"labels\"] = torch.Tensor(self.y[index])\n",
    "        return output_dict"
   ]
  },
  {
   "cell_type": "code",
   "execution_count": 10,
   "id": "af2a2e29",
   "metadata": {
    "ExecuteTime": {
     "end_time": "2022-07-21T17:48:21.211691Z",
     "start_time": "2022-07-21T17:48:21.205892Z"
    },
    "code_folding": [
     1
    ]
   },
   "outputs": [],
   "source": [
    "# Subsetの定義\n",
    "class CreateSubset(Dataset):\n",
    "    def __init__(self, X, y, transform, indices):\n",
    "        self.X = X\n",
    "        self.y = y\n",
    "        self.indices = indices\n",
    "        self.transform = transform\n",
    "\n",
    "    def __len__(self):  # len(Dataset)で返す値を指定\n",
    "        return len(self.indices)\n",
    "\n",
    "    def __getitem__(self, idx):  # Dataset[index]で返す値を指定\n",
    "        _X = self.X[self.indices[idx]]\n",
    "        output_dict = self.transform(_X)\n",
    "        output_dict[\"labels\"] = torch.Tensor(self.y[self.indices[idx]])\n",
    "        return output_dict"
   ]
  },
  {
   "cell_type": "code",
   "execution_count": 11,
   "id": "4ebe9e11",
   "metadata": {
    "ExecuteTime": {
     "end_time": "2022-07-21T17:48:21.218292Z",
     "start_time": "2022-07-21T17:48:21.213850Z"
    }
   },
   "outputs": [],
   "source": [
    "def freeze(module):\n",
    "    for parameter in module.parameters():\n",
    "        parameter.require_grad = False"
   ]
  },
  {
   "cell_type": "code",
   "execution_count": 12,
   "id": "670e3dc6",
   "metadata": {
    "ExecuteTime": {
     "end_time": "2022-07-21T17:48:21.225770Z",
     "start_time": "2022-07-21T17:48:21.220384Z"
    },
    "code_folding": [
     0
    ]
   },
   "outputs": [],
   "source": [
    "# BERT分類モデル\n",
    "class BERTClass(torch.nn.Module):\n",
    "    def __init__(self, config):\n",
    "        super().__init__()\n",
    "        self.config = config\n",
    "        self.bert = AutoModel.from_pretrained(\n",
    "            self.config[\"model_name\"], output_hidden_states=True\n",
    "        )\n",
    "        self.drop = nn.Dropout(self.config[\"drop_rate\"])\n",
    "        self.fc = nn.Linear(self.config[\"hidden_size\"], self.config[\"output_size\"])\n",
    "        # Gradient Checkpointing\n",
    "        if self.config[\"gradient_checkpoint\"]:\n",
    "            self.bert.gradient_checkpointing_enable()\n",
    "        # Freeze\n",
    "        if self.config[\"freezing\"]:\n",
    "            freeze(self.bert.embeddings)\n",
    "            freeze(self.bert.encoder.layer[:2])\n",
    "\n",
    "    def forward(self, input_ids, attention_mask, token_type_ids):\n",
    "        if self.config[\"header_type\"] == \"Linear\":\n",
    "            out = self.bert(\n",
    "                input_ids, attention_mask=attention_mask, token_type_ids=token_type_ids\n",
    "            )\n",
    "            out = self.drop(out.hidden_states[-1])\n",
    "            out = self.fc(out[:, 0, :])\n",
    "            return out"
   ]
  },
  {
   "cell_type": "code",
   "execution_count": 13,
   "id": "7f416769",
   "metadata": {
    "ExecuteTime": {
     "end_time": "2022-07-21T17:48:21.233157Z",
     "start_time": "2022-07-21T17:48:21.227983Z"
    },
    "code_folding": [
     1
    ]
   },
   "outputs": [],
   "source": [
    "# BERT分類モデルの定義(Pooling)\n",
    "class BERTPoolingClass(BERTClass):\n",
    "    def __init__(self, config):\n",
    "        super().__init__(config)\n",
    "        self.drop = nn.Dropout(self.config[\"drop_rate\"])\n",
    "        self.drop = nn.Dropout(self.config[\"drop_rate\"])\n",
    "        self.pooling = nn.AdaptiveMaxPool1d(1)\n",
    "        self.fc = nn.Linear(\n",
    "            self.config[\"hidden_size\"], self.config[\"output_size\"]\n",
    "        )\n",
    "\n",
    "    def forward(self, input_ids, attention_mask, token_type_ids):\n",
    "        out = self.bert(\n",
    "            input_ids, attention_mask=attention_mask, token_type_ids=token_type_ids\n",
    "        )\n",
    "        out = self.drop(out.hidden_states[-1])\n",
    "        out, _ = out.max(1)\n",
    "        out = self.fc(out)\n",
    "        return out"
   ]
  },
  {
   "cell_type": "code",
   "execution_count": 14,
   "id": "e2103ece",
   "metadata": {
    "ExecuteTime": {
     "end_time": "2022-07-21T17:48:21.240878Z",
     "start_time": "2022-07-21T17:48:21.235638Z"
    },
    "code_folding": [
     1
    ]
   },
   "outputs": [],
   "source": [
    "# BERT分類モデルの定義(Couvolution)\n",
    "class BERTConvolutionClass(BERTClass):\n",
    "    def __init__(self, config):\n",
    "        super().__init__(config)\n",
    "        self.drop = nn.Dropout(self.config[\"drop_rate\"])\n",
    "        self.cnn1 = nn.Conv1d(\n",
    "            self.config[\"hidden_size\"], 256, kernel_size=2, padding=1\n",
    "        )\n",
    "        self.cnn2 = nn.Conv1d(256, 1, kernel_size=2, padding=1)\n",
    "\n",
    "    def forward(self, input_ids, attention_mask, token_type_ids):\n",
    "        out = (\n",
    "            self.bert(\n",
    "                input_ids, attention_mask=attention_mask, token_type_ids=token_type_ids\n",
    "            )\n",
    "            .hidden_states[-1]\n",
    "            .permute(0, 2, 1)\n",
    "        )\n",
    "        out = nn.functional.relu(self.cnn1(out))\n",
    "        out = self.cnn2(out)\n",
    "        out, _ = torch.max(out, 2)\n",
    "        return out"
   ]
  },
  {
   "cell_type": "code",
   "execution_count": 15,
   "id": "fb408e2b",
   "metadata": {
    "ExecuteTime": {
     "end_time": "2022-07-21T17:48:21.247720Z",
     "start_time": "2022-07-21T17:48:21.242657Z"
    },
    "code_folding": [
     1
    ]
   },
   "outputs": [],
   "source": [
    "# BERT分類モデルの定義(Concatenate)\n",
    "class BERTConcatenateClass(BERTClass):\n",
    "    def __init__(self, config):\n",
    "        super().__init__(config)\n",
    "        self.drop = nn.Dropout(self.config[\"drop_rate\"])\n",
    "        self.fc = nn.Linear(\n",
    "            self.config[\"hidden_size\"] * 4, self.config[\"output_size\"]\n",
    "        )\n",
    "\n",
    "    def forward(self, input_ids, attention_mask, token_type_ids):\n",
    "        out = self.bert(\n",
    "            input_ids, attention_mask=attention_mask, token_type_ids=token_type_ids\n",
    "        )\n",
    "        out = torch.cat(\n",
    "            [out[\"hidden_states\"][-1 * i][:, 0] for i in range(1, 4 + 1)], dim=1\n",
    "        )  # concatenate\n",
    "        out = self.fc(out)\n",
    "\n",
    "        return out"
   ]
  },
  {
   "cell_type": "code",
   "execution_count": 16,
   "id": "893fcbbb",
   "metadata": {
    "ExecuteTime": {
     "end_time": "2022-07-21T17:48:21.257749Z",
     "start_time": "2022-07-21T17:48:21.249925Z"
    },
    "code_folding": [
     0
    ]
   },
   "outputs": [],
   "source": [
    "def calculate_loss_f1(model, criterion, loader, device):\n",
    "    \"\"\"損失・正解率を計算\"\"\"\n",
    "    model.eval()\n",
    "    loss = 0.0\n",
    "    total = 0\n",
    "    correct = 0\n",
    "    with torch.no_grad():\n",
    "        for data in loader:\n",
    "            # デバイスの指定\n",
    "            input_ids = data[\"input_ids\"].to(device)\n",
    "            attention_mask = data[\"attention_mask\"].to(device)\n",
    "            token_type_ids = data[\"token_type_ids\"].to(device)\n",
    "            labels = data[\"labels\"].to(device)\n",
    "\n",
    "            # 順伝播\n",
    "            outputs = model(input_ids, attention_mask, token_type_ids)\n",
    "\n",
    "            # 損失計算\n",
    "            loss += criterion(outputs, labels).item()\n",
    "\n",
    "            # 確率計算\n",
    "            prob = torch.sigmoid(outputs)\n",
    "            pred = torch.where(prob > 0.5, 1, 0)\n",
    "\n",
    "            # f1スコア計算\n",
    "            f1 = f1_score(pred.cpu().numpy(), labels.cpu().numpy(), average=\"macro\", zero_division=0)\n",
    "\n",
    "    return loss / len(loader), f1"
   ]
  },
  {
   "cell_type": "code",
   "execution_count": 17,
   "id": "0f43bc5e",
   "metadata": {
    "ExecuteTime": {
     "end_time": "2022-07-21T17:48:21.268558Z",
     "start_time": "2022-07-21T17:48:21.260290Z"
    },
    "code_folding": [
     1
    ]
   },
   "outputs": [],
   "source": [
    "# EralyStopクラス\n",
    "class EarlyStopping:\n",
    "    def __init__(\n",
    "        self, patience=3, threshold=0.1, verbose=False, path=\"checkpoint_model.pth\"\n",
    "    ):\n",
    "        \"\"\"引数：最小値の非更新数カウンタ、最小値判定の閾値, 表示設定、モデル格納path\"\"\"\n",
    "\n",
    "        self.patience = patience  # 設定ストップカウンタ\n",
    "        self.threshold = threshold  # 最小値判定の閾値。比率で指定\n",
    "        self.verbose = verbose  # 表示の有無\n",
    "        self.counter = 0  # 現在のカウンタ値\n",
    "        self.early_stop = False  # ストップフラグ\n",
    "        self.val_loss_min = np.Inf  # 前回のベストスコア記憶用\n",
    "        self.path = path  # ベストモデル格納path\n",
    "\n",
    "    def __call__(self, val_loss, model):\n",
    "        if val_loss > (1 - self.threshold) * self.val_loss_min:  # ベストスコアを更新できなかった場合\n",
    "            self.counter += 1  # ストップカウンタを+1\n",
    "            if self.verbose:  # 表示を有効にした場合は経過を表示\n",
    "                print(\n",
    "                    f\"EarlyStopping counter: {self.counter} out of {self.patience}\"\n",
    "                )  # 現在のカウンタを表示する\n",
    "            if self.counter >= self.patience:  # 設定カウントを上回ったらストップフラグをTrueに変更\n",
    "                self.early_stop = True\n",
    "                \n",
    "        else:  # ベストスコアを更新した場合\n",
    "            if self.verbose:  # 表示を有効にした場合は、前回のベストスコアからどれだけ更新したか？を表示\n",
    "                print(\n",
    "                    f\"Validation loss decreased ({self.val_loss_min:.6f} --> {val_loss:.6f}).  Saving model ...\"\n",
    "                )\n",
    "            torch.save(model.state_dict(), self.path)  # ベストモデルを指定したpathに保存\n",
    "            \n",
    "            self.val_loss_min = val_loss\n",
    "            self.counter = 0  # ストップカウンタリセット"
   ]
  },
  {
   "cell_type": "code",
   "execution_count": 19,
   "id": "93335120",
   "metadata": {
    "ExecuteTime": {
     "end_time": "2022-07-21T17:48:58.312309Z",
     "start_time": "2022-07-21T17:48:50.507047Z"
    },
    "code_folding": [],
    "collapsed": true
   },
   "outputs": [
    {
     "name": "stderr",
     "output_type": "stream",
     "text": [
      "Some weights of the model checkpoint at bert-base-uncased were not used when initializing BertModel: ['cls.predictions.bias', 'cls.predictions.decoder.weight', 'cls.predictions.transform.dense.bias', 'cls.predictions.transform.LayerNorm.weight', 'cls.seq_relationship.bias', 'cls.seq_relationship.weight', 'cls.predictions.transform.dense.weight', 'cls.predictions.transform.LayerNorm.bias']\n",
      "- This IS expected if you are initializing BertModel from the checkpoint of a model trained on another task or with another architecture (e.g. initializing a BertForSequenceClassification model from a BertForPreTraining model).\n",
      "- This IS NOT expected if you are initializing BertModel from the checkpoint of a model that you expect to be exactly identical (initializing a BertForSequenceClassification model from a BertForSequenceClassification model).\n"
     ]
    },
    {
     "data": {
      "text/plain": [
       "BERTClass(\n",
       "  (bert): BertModel(\n",
       "    (embeddings): BertEmbeddings(\n",
       "      (word_embeddings): Embedding(30522, 768, padding_idx=0)\n",
       "      (position_embeddings): Embedding(512, 768)\n",
       "      (token_type_embeddings): Embedding(2, 768)\n",
       "      (LayerNorm): LayerNorm((768,), eps=1e-12, elementwise_affine=True)\n",
       "      (dropout): Dropout(p=0.1, inplace=False)\n",
       "    )\n",
       "    (encoder): BertEncoder(\n",
       "      (layer): ModuleList(\n",
       "        (0): BertLayer(\n",
       "          (attention): BertAttention(\n",
       "            (self): BertSelfAttention(\n",
       "              (query): Linear(in_features=768, out_features=768, bias=True)\n",
       "              (key): Linear(in_features=768, out_features=768, bias=True)\n",
       "              (value): Linear(in_features=768, out_features=768, bias=True)\n",
       "              (dropout): Dropout(p=0.1, inplace=False)\n",
       "            )\n",
       "            (output): BertSelfOutput(\n",
       "              (dense): Linear(in_features=768, out_features=768, bias=True)\n",
       "              (LayerNorm): LayerNorm((768,), eps=1e-12, elementwise_affine=True)\n",
       "              (dropout): Dropout(p=0.1, inplace=False)\n",
       "            )\n",
       "          )\n",
       "          (intermediate): BertIntermediate(\n",
       "            (dense): Linear(in_features=768, out_features=3072, bias=True)\n",
       "            (intermediate_act_fn): GELUActivation()\n",
       "          )\n",
       "          (output): BertOutput(\n",
       "            (dense): Linear(in_features=3072, out_features=768, bias=True)\n",
       "            (LayerNorm): LayerNorm((768,), eps=1e-12, elementwise_affine=True)\n",
       "            (dropout): Dropout(p=0.1, inplace=False)\n",
       "          )\n",
       "        )\n",
       "        (1): BertLayer(\n",
       "          (attention): BertAttention(\n",
       "            (self): BertSelfAttention(\n",
       "              (query): Linear(in_features=768, out_features=768, bias=True)\n",
       "              (key): Linear(in_features=768, out_features=768, bias=True)\n",
       "              (value): Linear(in_features=768, out_features=768, bias=True)\n",
       "              (dropout): Dropout(p=0.1, inplace=False)\n",
       "            )\n",
       "            (output): BertSelfOutput(\n",
       "              (dense): Linear(in_features=768, out_features=768, bias=True)\n",
       "              (LayerNorm): LayerNorm((768,), eps=1e-12, elementwise_affine=True)\n",
       "              (dropout): Dropout(p=0.1, inplace=False)\n",
       "            )\n",
       "          )\n",
       "          (intermediate): BertIntermediate(\n",
       "            (dense): Linear(in_features=768, out_features=3072, bias=True)\n",
       "            (intermediate_act_fn): GELUActivation()\n",
       "          )\n",
       "          (output): BertOutput(\n",
       "            (dense): Linear(in_features=3072, out_features=768, bias=True)\n",
       "            (LayerNorm): LayerNorm((768,), eps=1e-12, elementwise_affine=True)\n",
       "            (dropout): Dropout(p=0.1, inplace=False)\n",
       "          )\n",
       "        )\n",
       "        (2): BertLayer(\n",
       "          (attention): BertAttention(\n",
       "            (self): BertSelfAttention(\n",
       "              (query): Linear(in_features=768, out_features=768, bias=True)\n",
       "              (key): Linear(in_features=768, out_features=768, bias=True)\n",
       "              (value): Linear(in_features=768, out_features=768, bias=True)\n",
       "              (dropout): Dropout(p=0.1, inplace=False)\n",
       "            )\n",
       "            (output): BertSelfOutput(\n",
       "              (dense): Linear(in_features=768, out_features=768, bias=True)\n",
       "              (LayerNorm): LayerNorm((768,), eps=1e-12, elementwise_affine=True)\n",
       "              (dropout): Dropout(p=0.1, inplace=False)\n",
       "            )\n",
       "          )\n",
       "          (intermediate): BertIntermediate(\n",
       "            (dense): Linear(in_features=768, out_features=3072, bias=True)\n",
       "            (intermediate_act_fn): GELUActivation()\n",
       "          )\n",
       "          (output): BertOutput(\n",
       "            (dense): Linear(in_features=3072, out_features=768, bias=True)\n",
       "            (LayerNorm): LayerNorm((768,), eps=1e-12, elementwise_affine=True)\n",
       "            (dropout): Dropout(p=0.1, inplace=False)\n",
       "          )\n",
       "        )\n",
       "        (3): BertLayer(\n",
       "          (attention): BertAttention(\n",
       "            (self): BertSelfAttention(\n",
       "              (query): Linear(in_features=768, out_features=768, bias=True)\n",
       "              (key): Linear(in_features=768, out_features=768, bias=True)\n",
       "              (value): Linear(in_features=768, out_features=768, bias=True)\n",
       "              (dropout): Dropout(p=0.1, inplace=False)\n",
       "            )\n",
       "            (output): BertSelfOutput(\n",
       "              (dense): Linear(in_features=768, out_features=768, bias=True)\n",
       "              (LayerNorm): LayerNorm((768,), eps=1e-12, elementwise_affine=True)\n",
       "              (dropout): Dropout(p=0.1, inplace=False)\n",
       "            )\n",
       "          )\n",
       "          (intermediate): BertIntermediate(\n",
       "            (dense): Linear(in_features=768, out_features=3072, bias=True)\n",
       "            (intermediate_act_fn): GELUActivation()\n",
       "          )\n",
       "          (output): BertOutput(\n",
       "            (dense): Linear(in_features=3072, out_features=768, bias=True)\n",
       "            (LayerNorm): LayerNorm((768,), eps=1e-12, elementwise_affine=True)\n",
       "            (dropout): Dropout(p=0.1, inplace=False)\n",
       "          )\n",
       "        )\n",
       "        (4): BertLayer(\n",
       "          (attention): BertAttention(\n",
       "            (self): BertSelfAttention(\n",
       "              (query): Linear(in_features=768, out_features=768, bias=True)\n",
       "              (key): Linear(in_features=768, out_features=768, bias=True)\n",
       "              (value): Linear(in_features=768, out_features=768, bias=True)\n",
       "              (dropout): Dropout(p=0.1, inplace=False)\n",
       "            )\n",
       "            (output): BertSelfOutput(\n",
       "              (dense): Linear(in_features=768, out_features=768, bias=True)\n",
       "              (LayerNorm): LayerNorm((768,), eps=1e-12, elementwise_affine=True)\n",
       "              (dropout): Dropout(p=0.1, inplace=False)\n",
       "            )\n",
       "          )\n",
       "          (intermediate): BertIntermediate(\n",
       "            (dense): Linear(in_features=768, out_features=3072, bias=True)\n",
       "            (intermediate_act_fn): GELUActivation()\n",
       "          )\n",
       "          (output): BertOutput(\n",
       "            (dense): Linear(in_features=3072, out_features=768, bias=True)\n",
       "            (LayerNorm): LayerNorm((768,), eps=1e-12, elementwise_affine=True)\n",
       "            (dropout): Dropout(p=0.1, inplace=False)\n",
       "          )\n",
       "        )\n",
       "        (5): BertLayer(\n",
       "          (attention): BertAttention(\n",
       "            (self): BertSelfAttention(\n",
       "              (query): Linear(in_features=768, out_features=768, bias=True)\n",
       "              (key): Linear(in_features=768, out_features=768, bias=True)\n",
       "              (value): Linear(in_features=768, out_features=768, bias=True)\n",
       "              (dropout): Dropout(p=0.1, inplace=False)\n",
       "            )\n",
       "            (output): BertSelfOutput(\n",
       "              (dense): Linear(in_features=768, out_features=768, bias=True)\n",
       "              (LayerNorm): LayerNorm((768,), eps=1e-12, elementwise_affine=True)\n",
       "              (dropout): Dropout(p=0.1, inplace=False)\n",
       "            )\n",
       "          )\n",
       "          (intermediate): BertIntermediate(\n",
       "            (dense): Linear(in_features=768, out_features=3072, bias=True)\n",
       "            (intermediate_act_fn): GELUActivation()\n",
       "          )\n",
       "          (output): BertOutput(\n",
       "            (dense): Linear(in_features=3072, out_features=768, bias=True)\n",
       "            (LayerNorm): LayerNorm((768,), eps=1e-12, elementwise_affine=True)\n",
       "            (dropout): Dropout(p=0.1, inplace=False)\n",
       "          )\n",
       "        )\n",
       "        (6): BertLayer(\n",
       "          (attention): BertAttention(\n",
       "            (self): BertSelfAttention(\n",
       "              (query): Linear(in_features=768, out_features=768, bias=True)\n",
       "              (key): Linear(in_features=768, out_features=768, bias=True)\n",
       "              (value): Linear(in_features=768, out_features=768, bias=True)\n",
       "              (dropout): Dropout(p=0.1, inplace=False)\n",
       "            )\n",
       "            (output): BertSelfOutput(\n",
       "              (dense): Linear(in_features=768, out_features=768, bias=True)\n",
       "              (LayerNorm): LayerNorm((768,), eps=1e-12, elementwise_affine=True)\n",
       "              (dropout): Dropout(p=0.1, inplace=False)\n",
       "            )\n",
       "          )\n",
       "          (intermediate): BertIntermediate(\n",
       "            (dense): Linear(in_features=768, out_features=3072, bias=True)\n",
       "            (intermediate_act_fn): GELUActivation()\n",
       "          )\n",
       "          (output): BertOutput(\n",
       "            (dense): Linear(in_features=3072, out_features=768, bias=True)\n",
       "            (LayerNorm): LayerNorm((768,), eps=1e-12, elementwise_affine=True)\n",
       "            (dropout): Dropout(p=0.1, inplace=False)\n",
       "          )\n",
       "        )\n",
       "        (7): BertLayer(\n",
       "          (attention): BertAttention(\n",
       "            (self): BertSelfAttention(\n",
       "              (query): Linear(in_features=768, out_features=768, bias=True)\n",
       "              (key): Linear(in_features=768, out_features=768, bias=True)\n",
       "              (value): Linear(in_features=768, out_features=768, bias=True)\n",
       "              (dropout): Dropout(p=0.1, inplace=False)\n",
       "            )\n",
       "            (output): BertSelfOutput(\n",
       "              (dense): Linear(in_features=768, out_features=768, bias=True)\n",
       "              (LayerNorm): LayerNorm((768,), eps=1e-12, elementwise_affine=True)\n",
       "              (dropout): Dropout(p=0.1, inplace=False)\n",
       "            )\n",
       "          )\n",
       "          (intermediate): BertIntermediate(\n",
       "            (dense): Linear(in_features=768, out_features=3072, bias=True)\n",
       "            (intermediate_act_fn): GELUActivation()\n",
       "          )\n",
       "          (output): BertOutput(\n",
       "            (dense): Linear(in_features=3072, out_features=768, bias=True)\n",
       "            (LayerNorm): LayerNorm((768,), eps=1e-12, elementwise_affine=True)\n",
       "            (dropout): Dropout(p=0.1, inplace=False)\n",
       "          )\n",
       "        )\n",
       "        (8): BertLayer(\n",
       "          (attention): BertAttention(\n",
       "            (self): BertSelfAttention(\n",
       "              (query): Linear(in_features=768, out_features=768, bias=True)\n",
       "              (key): Linear(in_features=768, out_features=768, bias=True)\n",
       "              (value): Linear(in_features=768, out_features=768, bias=True)\n",
       "              (dropout): Dropout(p=0.1, inplace=False)\n",
       "            )\n",
       "            (output): BertSelfOutput(\n",
       "              (dense): Linear(in_features=768, out_features=768, bias=True)\n",
       "              (LayerNorm): LayerNorm((768,), eps=1e-12, elementwise_affine=True)\n",
       "              (dropout): Dropout(p=0.1, inplace=False)\n",
       "            )\n",
       "          )\n",
       "          (intermediate): BertIntermediate(\n",
       "            (dense): Linear(in_features=768, out_features=3072, bias=True)\n",
       "            (intermediate_act_fn): GELUActivation()\n",
       "          )\n",
       "          (output): BertOutput(\n",
       "            (dense): Linear(in_features=3072, out_features=768, bias=True)\n",
       "            (LayerNorm): LayerNorm((768,), eps=1e-12, elementwise_affine=True)\n",
       "            (dropout): Dropout(p=0.1, inplace=False)\n",
       "          )\n",
       "        )\n",
       "        (9): BertLayer(\n",
       "          (attention): BertAttention(\n",
       "            (self): BertSelfAttention(\n",
       "              (query): Linear(in_features=768, out_features=768, bias=True)\n",
       "              (key): Linear(in_features=768, out_features=768, bias=True)\n",
       "              (value): Linear(in_features=768, out_features=768, bias=True)\n",
       "              (dropout): Dropout(p=0.1, inplace=False)\n",
       "            )\n",
       "            (output): BertSelfOutput(\n",
       "              (dense): Linear(in_features=768, out_features=768, bias=True)\n",
       "              (LayerNorm): LayerNorm((768,), eps=1e-12, elementwise_affine=True)\n",
       "              (dropout): Dropout(p=0.1, inplace=False)\n",
       "            )\n",
       "          )\n",
       "          (intermediate): BertIntermediate(\n",
       "            (dense): Linear(in_features=768, out_features=3072, bias=True)\n",
       "            (intermediate_act_fn): GELUActivation()\n",
       "          )\n",
       "          (output): BertOutput(\n",
       "            (dense): Linear(in_features=3072, out_features=768, bias=True)\n",
       "            (LayerNorm): LayerNorm((768,), eps=1e-12, elementwise_affine=True)\n",
       "            (dropout): Dropout(p=0.1, inplace=False)\n",
       "          )\n",
       "        )\n",
       "        (10): BertLayer(\n",
       "          (attention): BertAttention(\n",
       "            (self): BertSelfAttention(\n",
       "              (query): Linear(in_features=768, out_features=768, bias=True)\n",
       "              (key): Linear(in_features=768, out_features=768, bias=True)\n",
       "              (value): Linear(in_features=768, out_features=768, bias=True)\n",
       "              (dropout): Dropout(p=0.1, inplace=False)\n",
       "            )\n",
       "            (output): BertSelfOutput(\n",
       "              (dense): Linear(in_features=768, out_features=768, bias=True)\n",
       "              (LayerNorm): LayerNorm((768,), eps=1e-12, elementwise_affine=True)\n",
       "              (dropout): Dropout(p=0.1, inplace=False)\n",
       "            )\n",
       "          )\n",
       "          (intermediate): BertIntermediate(\n",
       "            (dense): Linear(in_features=768, out_features=3072, bias=True)\n",
       "            (intermediate_act_fn): GELUActivation()\n",
       "          )\n",
       "          (output): BertOutput(\n",
       "            (dense): Linear(in_features=3072, out_features=768, bias=True)\n",
       "            (LayerNorm): LayerNorm((768,), eps=1e-12, elementwise_affine=True)\n",
       "            (dropout): Dropout(p=0.1, inplace=False)\n",
       "          )\n",
       "        )\n",
       "        (11): BertLayer(\n",
       "          (attention): BertAttention(\n",
       "            (self): BertSelfAttention(\n",
       "              (query): Linear(in_features=768, out_features=768, bias=True)\n",
       "              (key): Linear(in_features=768, out_features=768, bias=True)\n",
       "              (value): Linear(in_features=768, out_features=768, bias=True)\n",
       "              (dropout): Dropout(p=0.1, inplace=False)\n",
       "            )\n",
       "            (output): BertSelfOutput(\n",
       "              (dense): Linear(in_features=768, out_features=768, bias=True)\n",
       "              (LayerNorm): LayerNorm((768,), eps=1e-12, elementwise_affine=True)\n",
       "              (dropout): Dropout(p=0.1, inplace=False)\n",
       "            )\n",
       "          )\n",
       "          (intermediate): BertIntermediate(\n",
       "            (dense): Linear(in_features=768, out_features=3072, bias=True)\n",
       "            (intermediate_act_fn): GELUActivation()\n",
       "          )\n",
       "          (output): BertOutput(\n",
       "            (dense): Linear(in_features=3072, out_features=768, bias=True)\n",
       "            (LayerNorm): LayerNorm((768,), eps=1e-12, elementwise_affine=True)\n",
       "            (dropout): Dropout(p=0.1, inplace=False)\n",
       "          )\n",
       "        )\n",
       "      )\n",
       "    )\n",
       "    (pooler): BertPooler(\n",
       "      (dense): Linear(in_features=768, out_features=768, bias=True)\n",
       "      (activation): Tanh()\n",
       "    )\n",
       "  )\n",
       "  (drop): Dropout(p=0.4, inplace=False)\n",
       "  (fc): Linear(in_features=768, out_features=3, bias=True)\n",
       ")"
      ]
     },
     "execution_count": 19,
     "metadata": {},
     "output_type": "execute_result"
    }
   ],
   "source": [
    "# デバイスの指定\n",
    "device = torch.device(\"cpu\")\n",
    "# モデルの定義\n",
    "model = BERTClass(config)\n",
    "model.load_state_dict(torch.load(\"/home/jovyan/work/data/checkpoint/checkpoint_model.pth\"))\n",
    "model.to(device)"
   ]
  },
  {
   "cell_type": "code",
   "execution_count": 20,
   "id": "77b5c588",
   "metadata": {
    "ExecuteTime": {
     "end_time": "2022-07-21T17:49:20.287295Z",
     "start_time": "2022-07-21T17:49:20.066134Z"
    }
   },
   "outputs": [],
   "source": [
    "# Datasetの作成\n",
    "tokenizer = tokenize(AutoTokenizer.from_pretrained(config[\"model_name\"]), config[\"max_token_len\"])\n",
    "y = pd.get_dummies(df[\"discourse_effectiveness\"]).to_numpy()\n",
    "dataset = CreateDataset(df[\"discourse_text\"], y, tokenizer)"
   ]
  },
  {
   "cell_type": "code",
   "execution_count": 21,
   "id": "5ac88682",
   "metadata": {
    "ExecuteTime": {
     "end_time": "2022-07-21T17:49:20.825752Z",
     "start_time": "2022-07-21T17:49:20.820378Z"
    }
   },
   "outputs": [],
   "source": [
    "def prediction(model, dataset, device):\n",
    "    # Dataloaderの作成\n",
    "    loader = DataLoader(dataset, batch_size=100, shuffle=False)\n",
    "\n",
    "    model.eval()\n",
    "  \n",
    "    prob = []\n",
    "    pred = []\n",
    "    label = []\n",
    "    with torch.no_grad():\n",
    "        for data in loader:\n",
    "            # デバイスの指定\n",
    "            input_ids = data[\"input_ids\"].to(device)\n",
    "            attention_mask = data[\"attention_mask\"].to(device)\n",
    "            token_type_ids = data[\"token_type_ids\"].to(device)\n",
    "            label.append(data[\"labels\"].to(device))\n",
    "\n",
    "            # 順伝播 + 予測値の取得 \n",
    "            outputs = model.forward(input_ids, attention_mask, token_type_ids)\n",
    "            prob.append(torch.sigmoid(outputs))\n",
    "            pred.append(torch.where(outputs>0.5, 1, 0))\n",
    "            \n",
    "        pred = torch.cat(pred, dim=0)\n",
    "        prob = torch.cat(prob, dim=0)\n",
    "        label = torch.cat(label, dim=0)\n",
    "        \n",
    "        del model, loader\n",
    "        gc.collect()\n",
    "        return pred, label, prob"
   ]
  },
  {
   "cell_type": "code",
   "execution_count": 22,
   "id": "b1601c3e",
   "metadata": {
    "ExecuteTime": {
     "end_time": "2022-07-21T17:53:05.420943Z",
     "start_time": "2022-07-21T17:49:21.475764Z"
    }
   },
   "outputs": [],
   "source": [
    "pred, label, prob = prediction(model, dataset, device)"
   ]
  },
  {
   "cell_type": "code",
   "execution_count": 23,
   "id": "55d3dd7c",
   "metadata": {
    "ExecuteTime": {
     "end_time": "2022-07-21T17:53:05.428906Z",
     "start_time": "2022-07-21T17:53:05.423914Z"
    }
   },
   "outputs": [],
   "source": [
    "#precision, recallの算出\n",
    "def calculate_pr_rc(pred, label):\n",
    "    pr_rc = []\n",
    "    for _ in range(label.shape[1]):\n",
    "        pr = precision_score(pred, label, average=\"macro\")\n",
    "        rc = recall_score(pred, label, average=\"macro\")\n",
    "        pr_rc.append([pr, rc])\n",
    "    return pr_rc"
   ]
  },
  {
   "cell_type": "code",
   "execution_count": 24,
   "id": "fcc84c7a",
   "metadata": {
    "ExecuteTime": {
     "end_time": "2022-07-21T17:53:05.450490Z",
     "start_time": "2022-07-21T17:53:05.431030Z"
    }
   },
   "outputs": [],
   "source": [
    "test_pr_rc = pd.DataFrame(\n",
    "    calculate_pr_rc(pred.numpy(), label.numpy()),\n",
    "    index=target_col_names,\n",
    "    columns=[\"precision\", \"recall\"]\n",
    ").T"
   ]
  },
  {
   "cell_type": "code",
   "execution_count": 25,
   "id": "10c761f6",
   "metadata": {
    "ExecuteTime": {
     "end_time": "2022-07-21T17:53:05.457834Z",
     "start_time": "2022-07-21T17:53:05.453112Z"
    }
   },
   "outputs": [],
   "source": [
    "def plot_performance(performances):\n",
    "    plt.rcParams[\"font.size\"] = 16\n",
    "    \n",
    "    length = len(performances.columns)\n",
    "    \n",
    "    plt.figure(figsize=(25, 10))\n",
    "    left = np.arange(length)\n",
    "    \n",
    "    plt.bar(left - 0.2, performances.loc[\"precision\", :], width=0.4, label=\"precision\")\n",
    "    plt.bar(left + 0.2, performances.loc[\"recall\", :], width=0.4, label=\"recall\")\n",
    "    plt.xticks(np.arange(length), performances.columns.tolist(), rotation=90)\n",
    "    plt.yticks(np.arange(11)*0.1, np.round(np.arange(11)*0.1, 1))\n",
    "    plt.grid(axis=\"y\")\n",
    "    plt.title(\"precision  vs recall \")\n",
    "    plt.legend(loc=\"upper left\")\n",
    "    plt.show()"
   ]
  },
  {
   "cell_type": "code",
   "execution_count": 26,
   "id": "41f64868",
   "metadata": {
    "ExecuteTime": {
     "end_time": "2022-07-21T17:53:05.666035Z",
     "start_time": "2022-07-21T17:53:05.459698Z"
    },
    "scrolled": true
   },
   "outputs": [
    {
     "data": {
      "image/png": "[encoded data removed]",
      "text/plain": [
       "<Figure size 1800x720 with 1 Axes>"
      ]
     },
     "metadata": {
      "needs_background": "light"
     },
     "output_type": "display_data"
    }
   ],
   "source": [
    "plot_performance(test_pr_rc)"
   ]
  },
  {
   "cell_type": "code",
   "execution_count": 27,
   "id": "f5f51d2e",
   "metadata": {
    "ExecuteTime": {
     "end_time": "2022-07-21T17:53:05.671152Z",
     "start_time": "2022-07-21T17:53:05.668275Z"
    }
   },
   "outputs": [],
   "source": [
    "def calc_cross_entropy(y_prob, y_label):\n",
    "    loss = -1 * np.mean(np.sum( y_label * np.log(y_prob), axis=1))\n",
    "    return loss"
   ]
  },
  {
   "cell_type": "code",
   "execution_count": 28,
   "id": "f0fa8e95",
   "metadata": {
    "ExecuteTime": {
     "end_time": "2022-07-21T17:53:05.677475Z",
     "start_time": "2022-07-21T17:53:05.673277Z"
    },
    "scrolled": true
   },
   "outputs": [
    {
     "data": {
      "text/plain": [
       "0.6228377819061279"
      ]
     },
     "execution_count": 28,
     "metadata": {},
     "output_type": "execute_result"
    }
   ],
   "source": [
    "calc_cross_entropy(prob.numpy(), label.numpy())"
   ]
  },
  {
   "cell_type": "code",
   "execution_count": 31,
   "id": "65c74794",
   "metadata": {
    "ExecuteTime": {
     "end_time": "2022-07-21T18:00:14.151428Z",
     "start_time": "2022-07-21T18:00:14.133974Z"
    },
    "scrolled": true
   },
   "outputs": [
    {
     "data": {
      "text/html": [
       "<div>\n",
       "<style scoped>\n",
       "    .dataframe tbody tr th:only-of-type {\n",
       "        vertical-align: middle;\n",
       "    }\n",
       "\n",
       "    .dataframe tbody tr th {\n",
       "        vertical-align: top;\n",
       "    }\n",
       "\n",
       "    .dataframe thead th {\n",
       "        text-align: right;\n",
       "    }\n",
       "</style>\n",
       "<table border=\"1\" class=\"dataframe\">\n",
       "  <thead>\n",
       "    <tr style=\"text-align: right;\">\n",
       "      <th></th>\n",
       "      <th>essay_id</th>\n",
       "      <th>discourse_text</th>\n",
       "      <th>discourse_type</th>\n",
       "      <th>discourse_effectiveness</th>\n",
       "      <th>inputs</th>\n",
       "    </tr>\n",
       "    <tr>\n",
       "      <th>discourse_id</th>\n",
       "      <th></th>\n",
       "      <th></th>\n",
       "      <th></th>\n",
       "      <th></th>\n",
       "      <th></th>\n",
       "    </tr>\n",
       "  </thead>\n",
       "  <tbody>\n",
       "    <tr>\n",
       "      <th>0013cc385424</th>\n",
       "      <td>007ACE74B050</td>\n",
       "      <td>Hi, i'm Isaac, i'm going to be writing about h...</td>\n",
       "      <td>Lead</td>\n",
       "      <td>Adequate</td>\n",
       "      <td>Lead[SEP]Hi, i'm Isaac, i'm going to be writin...</td>\n",
       "    </tr>\n",
       "    <tr>\n",
       "      <th>9704a709b505</th>\n",
       "      <td>007ACE74B050</td>\n",
       "      <td>On my perspective, I think that the face is a ...</td>\n",
       "      <td>Position</td>\n",
       "      <td>Adequate</td>\n",
       "      <td>Position[SEP]On my perspective, I think that t...</td>\n",
       "    </tr>\n",
       "    <tr>\n",
       "      <th>c22adee811b6</th>\n",
       "      <td>007ACE74B050</td>\n",
       "      <td>I think that the face is a natural landform be...</td>\n",
       "      <td>Claim</td>\n",
       "      <td>Adequate</td>\n",
       "      <td>Claim[SEP]I think that the face is a natural l...</td>\n",
       "    </tr>\n",
       "    <tr>\n",
       "      <th>a10d361e54e4</th>\n",
       "      <td>007ACE74B050</td>\n",
       "      <td>If life was on Mars, we would know by now. The...</td>\n",
       "      <td>Evidence</td>\n",
       "      <td>Adequate</td>\n",
       "      <td>Evidence[SEP]If life was on Mars, we would kno...</td>\n",
       "    </tr>\n",
       "    <tr>\n",
       "      <th>db3e453ec4e2</th>\n",
       "      <td>007ACE74B050</td>\n",
       "      <td>People thought that the face was formed by ali...</td>\n",
       "      <td>Counterclaim</td>\n",
       "      <td>Adequate</td>\n",
       "      <td>Counterclaim[SEP]People thought that the face ...</td>\n",
       "    </tr>\n",
       "    <tr>\n",
       "      <th>...</th>\n",
       "      <td>...</td>\n",
       "      <td>...</td>\n",
       "      <td>...</td>\n",
       "      <td>...</td>\n",
       "      <td>...</td>\n",
       "    </tr>\n",
       "    <tr>\n",
       "      <th>aba2bde7e19d</th>\n",
       "      <td>12C08C0F6EE1</td>\n",
       "      <td>A home PC could not take the proper encoding r...</td>\n",
       "      <td>Evidence</td>\n",
       "      <td>Adequate</td>\n",
       "      <td>Evidence[SEP]A home PC could not take the prop...</td>\n",
       "    </tr>\n",
       "    <tr>\n",
       "      <th>9af8a9ea55eb</th>\n",
       "      <td>12C08C0F6EE1</td>\n",
       "      <td>The emotional facial reading could be coming t...</td>\n",
       "      <td>Claim</td>\n",
       "      <td>Adequate</td>\n",
       "      <td>Claim[SEP]The emotional facial reading could b...</td>\n",
       "    </tr>\n",
       "    <tr>\n",
       "      <th>b8c6a847effb</th>\n",
       "      <td>12C08C0F6EE1</td>\n",
       "      <td>The new technology would be able to tell if a ...</td>\n",
       "      <td>Evidence</td>\n",
       "      <td>Adequate</td>\n",
       "      <td>Evidence[SEP]The new technology would be able ...</td>\n",
       "    </tr>\n",
       "    <tr>\n",
       "      <th>b536e411d765</th>\n",
       "      <td>12C08C0F6EE1</td>\n",
       "      <td>All the technology needs to understand how to ...</td>\n",
       "      <td>Concluding Statement</td>\n",
       "      <td>Adequate</td>\n",
       "      <td>Concluding Statement[SEP]All the technology ne...</td>\n",
       "    </tr>\n",
       "    <tr>\n",
       "      <th>cf8f52b2f8b1</th>\n",
       "      <td>1300CBEB1F39</td>\n",
       "      <td>I stand with the principle on his decision</td>\n",
       "      <td>Position</td>\n",
       "      <td>Adequate</td>\n",
       "      <td>Position[SEP]I stand with the principle on his...</td>\n",
       "    </tr>\n",
       "  </tbody>\n",
       "</table>\n",
       "<p>1000 rows × 5 columns</p>\n",
       "</div>"
      ],
      "text/plain": [
       "                  essay_id                                     discourse_text  \\\n",
       "discourse_id                                                                    \n",
       "0013cc385424  007ACE74B050  Hi, i'm Isaac, i'm going to be writing about h...   \n",
       "9704a709b505  007ACE74B050  On my perspective, I think that the face is a ...   \n",
       "c22adee811b6  007ACE74B050  I think that the face is a natural landform be...   \n",
       "a10d361e54e4  007ACE74B050  If life was on Mars, we would know by now. The...   \n",
       "db3e453ec4e2  007ACE74B050  People thought that the face was formed by ali...   \n",
       "...                    ...                                                ...   \n",
       "aba2bde7e19d  12C08C0F6EE1  A home PC could not take the proper encoding r...   \n",
       "9af8a9ea55eb  12C08C0F6EE1  The emotional facial reading could be coming t...   \n",
       "b8c6a847effb  12C08C0F6EE1  The new technology would be able to tell if a ...   \n",
       "b536e411d765  12C08C0F6EE1  All the technology needs to understand how to ...   \n",
       "cf8f52b2f8b1  1300CBEB1F39        I stand with the principle on his decision    \n",
       "\n",
       "                    discourse_type discourse_effectiveness  \\\n",
       "discourse_id                                                 \n",
       "0013cc385424                  Lead                Adequate   \n",
       "9704a709b505              Position                Adequate   \n",
       "c22adee811b6                 Claim                Adequate   \n",
       "a10d361e54e4              Evidence                Adequate   \n",
       "db3e453ec4e2          Counterclaim                Adequate   \n",
       "...                            ...                     ...   \n",
       "aba2bde7e19d              Evidence                Adequate   \n",
       "9af8a9ea55eb                 Claim                Adequate   \n",
       "b8c6a847effb              Evidence                Adequate   \n",
       "b536e411d765  Concluding Statement                Adequate   \n",
       "cf8f52b2f8b1              Position                Adequate   \n",
       "\n",
       "                                                         inputs  \n",
       "discourse_id                                                     \n",
       "0013cc385424  Lead[SEP]Hi, i'm Isaac, i'm going to be writin...  \n",
       "9704a709b505  Position[SEP]On my perspective, I think that t...  \n",
       "c22adee811b6  Claim[SEP]I think that the face is a natural l...  \n",
       "a10d361e54e4  Evidence[SEP]If life was on Mars, we would kno...  \n",
       "db3e453ec4e2  Counterclaim[SEP]People thought that the face ...  \n",
       "...                                                         ...  \n",
       "aba2bde7e19d  Evidence[SEP]A home PC could not take the prop...  \n",
       "9af8a9ea55eb  Claim[SEP]The emotional facial reading could b...  \n",
       "b8c6a847effb  Evidence[SEP]The new technology would be able ...  \n",
       "b536e411d765  Concluding Statement[SEP]All the technology ne...  \n",
       "cf8f52b2f8b1  Position[SEP]I stand with the principle on his...  \n",
       "\n",
       "[1000 rows x 5 columns]"
      ]
     },
     "execution_count": 31,
     "metadata": {},
     "output_type": "execute_result"
    }
   ],
   "source": [
    "df"
   ]
  },
  {
   "cell_type": "code",
   "execution_count": 38,
   "id": "ec0a5426",
   "metadata": {
    "ExecuteTime": {
     "end_time": "2022-07-21T18:04:35.000733Z",
     "start_time": "2022-07-21T18:04:34.997191Z"
    }
   },
   "outputs": [],
   "source": [
    "confidence_level = -label * np.log(prob)"
   ]
  },
  {
   "cell_type": "code",
   "execution_count": 43,
   "id": "3d70aaf2",
   "metadata": {
    "ExecuteTime": {
     "end_time": "2022-07-21T18:05:29.002905Z",
     "start_time": "2022-07-21T18:05:28.999944Z"
    }
   },
   "outputs": [],
   "source": [
    "confidence_level = confidence_level.numpy()"
   ]
  },
  {
   "cell_type": "code",
   "execution_count": 46,
   "id": "2a87b971",
   "metadata": {
    "ExecuteTime": {
     "end_time": "2022-07-21T18:07:22.733691Z",
     "start_time": "2022-07-21T18:07:22.729415Z"
    }
   },
   "outputs": [],
   "source": [
    "confidence_level= pd.DataFrame(confidence_level)"
   ]
  },
  {
   "cell_type": "code",
   "execution_count": 80,
   "id": "b8ed3cf1",
   "metadata": {
    "ExecuteTime": {
     "end_time": "2022-07-21T18:55:05.261133Z",
     "start_time": "2022-07-21T18:55:05.072073Z"
    }
   },
   "outputs": [
    {
     "data": {
      "text/plain": [
       "(array([ 9., 46., 63., 85., 93., 88., 44., 28., 15., 11.,  9., 12.,  7.,\n",
       "         7.,  7.,  2.,  1.,  3.,  4.,  2.,  2.,  2.,  1.,  3.,  2.,  3.,\n",
       "         0.,  0.,  1.,  0.,  1.,  0.,  1.,  0.,  0.,  0.,  0.,  1.,  1.,\n",
       "         1.]),\n",
       " array([0.13839194, 0.19117007, 0.24394819, 0.29672632, 0.34950444,\n",
       "        0.40228257, 0.4550607 , 0.50783885, 0.56061697, 0.6133951 ,\n",
       "        0.6661732 , 0.71895134, 0.77172947, 0.8245076 , 0.8772857 ,\n",
       "        0.93006384, 0.98284197, 1.0356201 , 1.0883982 , 1.1411763 ,\n",
       "        1.1939545 , 1.2467326 , 1.2995107 , 1.3522888 , 1.405067  ,\n",
       "        1.4578451 , 1.5106232 , 1.5634013 , 1.6161795 , 1.6689576 ,\n",
       "        1.7217357 , 1.7745138 , 1.827292  , 1.8800701 , 1.9328482 ,\n",
       "        1.9856263 , 2.0384045 , 2.0911825 , 2.1439607 , 2.1967387 ,\n",
       "        2.249517  ], dtype=float32),\n",
       " <BarContainer object of 40 artists>)"
      ]
     },
     "execution_count": 80,
     "metadata": {},
     "output_type": "execute_result"
    },
    {
     "data": {
      "image/png": "[encoded data removed]",
      "text/plain": [
       "<Figure size 432x288 with 1 Axes>"
      ]
     },
     "metadata": {
      "needs_background": "light"
     },
     "output_type": "display_data"
    }
   ],
   "source": [
    "fig = plt.figure()\n",
    "ax = fig.add_subplot()\n",
    "ax.hist(confidence_level[confidence_level[0]>0][0], bins=40)"
   ]
  },
  {
   "cell_type": "code",
   "execution_count": 81,
   "id": "45c6f043",
   "metadata": {
    "ExecuteTime": {
     "end_time": "2022-07-21T18:55:09.037056Z",
     "start_time": "2022-07-21T18:55:08.845867Z"
    }
   },
   "outputs": [
    {
     "data": {
      "text/plain": [
       "(array([49., 19., 36., 25., 16., 12., 17.,  9.,  9., 11.,  5.,  4.,  3.,\n",
       "         4.,  2.,  5.,  5.,  2.,  2.,  2.,  2.,  1.,  0.,  1.,  1.,  0.,\n",
       "         1.,  2.,  1.,  0.,  0.,  0.,  1.,  1.,  0.,  0.,  0.,  0.,  0.,\n",
       "         1.]),\n",
       " array([0.05659875, 0.1293131 , 0.20202744, 0.27474177, 0.34745613,\n",
       "        0.42017046, 0.4928848 , 0.56559914, 0.63831353, 0.71102786,\n",
       "        0.7837422 , 0.8564565 , 0.9291709 , 1.0018852 , 1.0745996 ,\n",
       "        1.147314  , 1.2200283 , 1.2927426 , 1.3654569 , 1.4381713 ,\n",
       "        1.5108856 , 1.5835999 , 1.6563144 , 1.7290287 , 1.801743  ,\n",
       "        1.8744574 , 1.9471717 , 2.019886  , 2.0926003 , 2.1653147 ,\n",
       "        2.238029  , 2.3107433 , 2.3834577 , 2.4561722 , 2.5288866 ,\n",
       "        2.601601  , 2.6743152 , 2.7470295 , 2.8197439 , 2.8924582 ,\n",
       "        2.9651725 ], dtype=float32),\n",
       " <BarContainer object of 40 artists>)"
      ]
     },
     "execution_count": 81,
     "metadata": {},
     "output_type": "execute_result"
    },
    {
     "data": {
      "image/png": "[encoded data removed]",
      "text/plain": [
       "<Figure size 432x288 with 1 Axes>"
      ]
     },
     "metadata": {
      "needs_background": "light"
     },
     "output_type": "display_data"
    }
   ],
   "source": [
    "fig = plt.figure()\n",
    "ax = fig.add_subplot()\n",
    "ax.hist(confidence_level[confidence_level[1]>0][1], bins=40)"
   ]
  },
  {
   "cell_type": "code",
   "execution_count": 83,
   "id": "d68e4c5f",
   "metadata": {
    "ExecuteTime": {
     "end_time": "2022-07-22T04:44:35.247485Z",
     "start_time": "2022-07-22T04:44:35.049452Z"
    },
    "scrolled": true
   },
   "outputs": [
    {
     "data": {
      "text/plain": [
       "(array([ 4.,  0.,  2.,  3.,  3.,  9., 10.,  9.,  3.,  9., 17., 10., 10.,\n",
       "        12., 10., 12., 12.,  8.,  4.,  3., 12.,  4.,  4.,  6.,  3.,  3.,\n",
       "         4.,  0.,  2.,  2.,  1.,  1.,  0.,  0.,  0.,  1.,  1.,  1.,  0.,\n",
       "         1.]),\n",
       " array([0.23218174, 0.30074382, 0.36930588, 0.43786794, 0.50643   ,\n",
       "        0.57499206, 0.6435541 , 0.7121162 , 0.7806782 , 0.8492403 ,\n",
       "        0.91780233, 0.9863644 , 1.0549265 , 1.1234885 , 1.1920506 ,\n",
       "        1.2606127 , 1.3291748 , 1.3977368 , 1.4662988 , 1.534861  ,\n",
       "        1.603423  , 1.671985  , 1.7405471 , 1.8091092 , 1.8776712 ,\n",
       "        1.9462333 , 2.0147953 , 2.0833573 , 2.1519194 , 2.2204816 ,\n",
       "        2.2890437 , 2.3576057 , 2.4261677 , 2.4947298 , 2.5632918 ,\n",
       "        2.6318538 , 2.7004158 , 2.768978  , 2.8375401 , 2.9061022 ,\n",
       "        2.9746642 ], dtype=float32),\n",
       " <BarContainer object of 40 artists>)"
      ]
     },
     "execution_count": 83,
     "metadata": {},
     "output_type": "execute_result"
    },
    {
     "data": {
      "image/png": "[encoded data removed]",
      "text/plain": [
       "<Figure size 432x288 with 1 Axes>"
      ]
     },
     "metadata": {
      "needs_background": "light"
     },
     "output_type": "display_data"
    }
   ],
   "source": [
    "fig = plt.figure()\n",
    "ax = fig.add_subplot()\n",
    "ax.hist(confidence_level[confidence_level[2]>0][2], bins=40)"
   ]
  },
  {
   "cell_type": "code",
   "execution_count": 88,
   "id": "aca4ae16",
   "metadata": {
    "ExecuteTime": {
     "end_time": "2022-07-22T07:06:11.640421Z",
     "start_time": "2022-07-22T07:06:11.630873Z"
    }
   },
   "outputs": [
    {
     "data": {
      "text/html": [
       "<div>\n",
       "<style scoped>\n",
       "    .dataframe tbody tr th:only-of-type {\n",
       "        vertical-align: middle;\n",
       "    }\n",
       "\n",
       "    .dataframe tbody tr th {\n",
       "        vertical-align: top;\n",
       "    }\n",
       "\n",
       "    .dataframe thead th {\n",
       "        text-align: right;\n",
       "    }\n",
       "</style>\n",
       "<table border=\"1\" class=\"dataframe\">\n",
       "  <thead>\n",
       "    <tr style=\"text-align: right;\">\n",
       "      <th></th>\n",
       "      <th>0</th>\n",
       "      <th>1</th>\n",
       "      <th>2</th>\n",
       "    </tr>\n",
       "    <tr>\n",
       "      <th>discourse_id</th>\n",
       "      <th></th>\n",
       "      <th></th>\n",
       "      <th></th>\n",
       "    </tr>\n",
       "  </thead>\n",
       "  <tbody>\n",
       "    <tr>\n",
       "      <th>0013cc385424</th>\n",
       "      <td>0.792999</td>\n",
       "      <td>0.107367</td>\n",
       "      <td>0.095308</td>\n",
       "    </tr>\n",
       "    <tr>\n",
       "      <th>9704a709b505</th>\n",
       "      <td>0.777897</td>\n",
       "      <td>0.114652</td>\n",
       "      <td>0.091171</td>\n",
       "    </tr>\n",
       "    <tr>\n",
       "      <th>c22adee811b6</th>\n",
       "      <td>0.829303</td>\n",
       "      <td>0.066362</td>\n",
       "      <td>0.087388</td>\n",
       "    </tr>\n",
       "    <tr>\n",
       "      <th>a10d361e54e4</th>\n",
       "      <td>0.740788</td>\n",
       "      <td>0.142964</td>\n",
       "      <td>0.099272</td>\n",
       "    </tr>\n",
       "    <tr>\n",
       "      <th>db3e453ec4e2</th>\n",
       "      <td>0.760325</td>\n",
       "      <td>0.034019</td>\n",
       "      <td>0.183237</td>\n",
       "    </tr>\n",
       "    <tr>\n",
       "      <th>...</th>\n",
       "      <td>...</td>\n",
       "      <td>...</td>\n",
       "      <td>...</td>\n",
       "    </tr>\n",
       "    <tr>\n",
       "      <th>aba2bde7e19d</th>\n",
       "      <td>0.642848</td>\n",
       "      <td>0.151498</td>\n",
       "      <td>0.150158</td>\n",
       "    </tr>\n",
       "    <tr>\n",
       "      <th>9af8a9ea55eb</th>\n",
       "      <td>0.771421</td>\n",
       "      <td>0.021440</td>\n",
       "      <td>0.231625</td>\n",
       "    </tr>\n",
       "    <tr>\n",
       "      <th>b8c6a847effb</th>\n",
       "      <td>0.704624</td>\n",
       "      <td>0.189856</td>\n",
       "      <td>0.083195</td>\n",
       "    </tr>\n",
       "    <tr>\n",
       "      <th>b536e411d765</th>\n",
       "      <td>0.705288</td>\n",
       "      <td>0.102797</td>\n",
       "      <td>0.178686</td>\n",
       "    </tr>\n",
       "    <tr>\n",
       "      <th>cf8f52b2f8b1</th>\n",
       "      <td>0.660054</td>\n",
       "      <td>0.021349</td>\n",
       "      <td>0.304540</td>\n",
       "    </tr>\n",
       "  </tbody>\n",
       "</table>\n",
       "<p>1000 rows × 3 columns</p>\n",
       "</div>"
      ],
      "text/plain": [
       "                     0         1         2\n",
       "discourse_id                              \n",
       "0013cc385424  0.792999  0.107367  0.095308\n",
       "9704a709b505  0.777897  0.114652  0.091171\n",
       "c22adee811b6  0.829303  0.066362  0.087388\n",
       "a10d361e54e4  0.740788  0.142964  0.099272\n",
       "db3e453ec4e2  0.760325  0.034019  0.183237\n",
       "...                ...       ...       ...\n",
       "aba2bde7e19d  0.642848  0.151498  0.150158\n",
       "9af8a9ea55eb  0.771421  0.021440  0.231625\n",
       "b8c6a847effb  0.704624  0.189856  0.083195\n",
       "b536e411d765  0.705288  0.102797  0.178686\n",
       "cf8f52b2f8b1  0.660054  0.021349  0.304540\n",
       "\n",
       "[1000 rows x 3 columns]"
      ]
     },
     "execution_count": 88,
     "metadata": {},
     "output_type": "execute_result"
    }
   ],
   "source": [
    "pd.DataFrame(prob.numpy(), index=df.index, columns=[0, 1, 2])"
   ]
  },
  {
   "cell_type": "code",
   "execution_count": null,
   "id": "11e8d65a",
   "metadata": {},
   "outputs": [],
   "source": []
  }
 ],
 "metadata": {
  "kernelspec": {
   "display_name": "Python 3 (ipykernel)",
   "language": "python",
   "name": "python3"
  },
  "language_info": {
   "codemirror_mode": {
    "name": "ipython",
    "version": 3
   },
   "file_extension": ".py",
   "mimetype": "text/x-python",
   "name": "python",
   "nbconvert_exporter": "python",
   "pygments_lexer": "ipython3",
   "version": "3.10.5"
  },
  "toc": {
   "base_numbering": 1,
   "nav_menu": {},
   "number_sections": true,
   "sideBar": true,
   "skip_h1_title": false,
   "title_cell": "Table of Contents",
   "title_sidebar": "Contents",
   "toc_cell": false,
   "toc_position": {},
   "toc_section_display": true,
   "toc_window_display": false
  },
  "varInspector": {
   "cols": {
    "lenName": 16,
    "lenType": 16,
    "lenVar": 40
   },
   "kernels_config": {
    "python": {
     "delete_cmd_postfix": "",
     "delete_cmd_prefix": "del ",
     "library": "var_list.py",
     "varRefreshCmd": "print(var_dic_list())"
    },
    "r": {
     "delete_cmd_postfix": ") ",
     "delete_cmd_prefix": "rm(",
     "library": "var_list.r",
     "varRefreshCmd": "cat(var_dic_list()) "
    }
   },
   "types_to_exclude": [
    "module",
    "function",
    "builtin_function_or_method",
    "instance",
    "_Feature"
   ],
   "window_display": false
  }
 },
 "nbformat": 4,
 "nbformat_minor": 5
}

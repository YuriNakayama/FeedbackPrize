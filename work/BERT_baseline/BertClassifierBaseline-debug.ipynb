{
 "cells": [
  {
   "cell_type": "markdown",
   "id": "72bf1e6f",
   "metadata": {},
   "source": [
    "# import"
   ]
  },
  {
   "cell_type": "code",
   "execution_count": 1,
   "id": "9cda5c0c",
   "metadata": {
    "ExecuteTime": {
     "end_time": "2022-07-03T08:21:18.757211Z",
     "start_time": "2022-07-03T08:21:16.740654Z"
    }
   },
   "outputs": [],
   "source": [
    "import gc\n",
    "import os\n",
    "import re\n",
    "import sys\n",
    "import time\n",
    "import warnings\n",
    "\n",
    "import numpy as np\n",
    "import pandas as pd\n",
    "import torch\n",
    "from matplotlib import pyplot as plt\n",
    "from sklearn.metrics import (accuracy_score, f1_score, precision_score,\n",
    "                             recall_score)\n",
    "from sklearn.model_selection import train_test_split\n",
    "from torch import optim\n",
    "from torch.utils.data import DataLoader, Dataset\n",
    "from tqdm import tqdm\n",
    "from transformers import AutoTokenizer, AutoModelForSequenceClassification, AutoConfig"
   ]
  },
  {
   "cell_type": "code",
   "execution_count": 2,
   "id": "ee375d86",
   "metadata": {
    "ExecuteTime": {
     "end_time": "2022-07-03T08:21:18.763839Z",
     "start_time": "2022-07-03T08:21:18.760202Z"
    }
   },
   "outputs": [],
   "source": [
    "warnings.filterwarnings(\"ignore\")"
   ]
  },
  {
   "cell_type": "code",
   "execution_count": 3,
   "id": "38091ea2",
   "metadata": {
    "ExecuteTime": {
     "end_time": "2022-07-03T08:21:18.768864Z",
     "start_time": "2022-07-03T08:21:18.765326Z"
    }
   },
   "outputs": [],
   "source": [
    "pd.set_option(\"display.max_column\", 100)\n",
    "pd.set_option(\"display.max_row\", 100)"
   ]
  },
  {
   "cell_type": "markdown",
   "id": "d2a9f556",
   "metadata": {},
   "source": [
    "# データの読み込み"
   ]
  },
  {
   "cell_type": "code",
   "execution_count": 4,
   "id": "640c2196",
   "metadata": {
    "ExecuteTime": {
     "end_time": "2022-07-03T08:21:18.911126Z",
     "start_time": "2022-07-03T08:21:18.770601Z"
    },
    "code_folding": []
   },
   "outputs": [],
   "source": [
    "df = pd.read_csv(\n",
    "    \"/home/jovyan/work/data/train.csv\",\n",
    "    index_col=\"discourse_id\"\n",
    ")"
   ]
  },
  {
   "cell_type": "markdown",
   "id": "321e5752",
   "metadata": {},
   "source": [
    "## データのラベル定義"
   ]
  },
  {
   "cell_type": "code",
   "execution_count": 5,
   "id": "2d318091",
   "metadata": {
    "ExecuteTime": {
     "end_time": "2022-07-03T08:21:18.916427Z",
     "start_time": "2022-07-03T08:21:18.913725Z"
    }
   },
   "outputs": [],
   "source": [
    "discourse_types = [\"Lead\", \"Position\", \"Claim\", \"Evidence\", \"Counterclaim\", \"Concluding Statement\", \"Rebuttal\"]\n",
    "target_col_names = [\"Adequate\", \"Effective\", \"Ineffective\"]"
   ]
  },
  {
   "cell_type": "markdown",
   "id": "33623ba2",
   "metadata": {},
   "source": [
    "## データ整形"
   ]
  },
  {
   "cell_type": "code",
   "execution_count": 6,
   "id": "4b2235a1",
   "metadata": {
    "ExecuteTime": {
     "end_time": "2022-07-03T08:21:18.933615Z",
     "start_time": "2022-07-03T08:21:18.918763Z"
    },
    "code_folding": []
   },
   "outputs": [],
   "source": [
    "# データの抽出\n",
    "df = df.loc[\n",
    "    df[\"discourse_type\"]==discourse_types[0]\n",
    "]\n",
    "\n",
    "# データの分割\n",
    "train, valid_test = train_test_split(\n",
    "    df, test_size=0.2, shuffle=True, random_state=0, stratify=df[\"discourse_effectiveness\"]\n",
    ")\n",
    "valid, test = train_test_split(\n",
    "    valid_test,\n",
    "    test_size=0.2,\n",
    "    shuffle=True,\n",
    "    random_state=0,\n",
    "    stratify=valid_test[\"discourse_effectiveness\"],\n",
    ")"
   ]
  },
  {
   "cell_type": "markdown",
   "id": "050c041a",
   "metadata": {},
   "source": [
    "## インデックスの割り当て"
   ]
  },
  {
   "cell_type": "code",
   "execution_count": 7,
   "id": "5b54738c",
   "metadata": {
    "ExecuteTime": {
     "end_time": "2022-07-03T08:21:18.939074Z",
     "start_time": "2022-07-03T08:21:18.935581Z"
    }
   },
   "outputs": [],
   "source": [
    "def set_index(df, id_col_name):\n",
    "    df.reset_index(inplace=True)\n",
    "    index_id = dict(zip(df.index, df[id_col_name]))\n",
    "    df.drop(id_col_name, inplace=True, axis=1)\n",
    "    return df, index_id"
   ]
  },
  {
   "cell_type": "code",
   "execution_count": 8,
   "id": "8b460341",
   "metadata": {
    "ExecuteTime": {
     "end_time": "2022-07-03T08:21:18.952952Z",
     "start_time": "2022-07-03T08:21:18.945393Z"
    }
   },
   "outputs": [],
   "source": [
    "train, train_index2id = set_index(train, \"discourse_id\")\n",
    "valid, valid_index2id = set_index(valid, \"discourse_id\")\n",
    "test, test_index2id = set_index(test, \"discourse_id\")"
   ]
  },
  {
   "cell_type": "code",
   "execution_count": 9,
   "id": "8ba189ea",
   "metadata": {
    "ExecuteTime": {
     "end_time": "2022-07-03T08:21:18.959185Z",
     "start_time": "2022-07-03T08:21:18.954447Z"
    },
    "code_folding": []
   },
   "outputs": [],
   "source": [
    "# 正解ラベルのone-hot化\n",
    "y_train = pd.get_dummies(train[\"discourse_effectiveness\"]).to_numpy()\n",
    "y_valid = pd.get_dummies(valid[\"discourse_effectiveness\"]).to_numpy()\n",
    "y_test = pd.get_dummies(test[\"discourse_effectiveness\"]).to_numpy()"
   ]
  },
  {
   "cell_type": "code",
   "execution_count": 32,
   "id": "af2a2e29",
   "metadata": {
    "ExecuteTime": {
     "end_time": "2022-07-03T09:09:21.238061Z",
     "start_time": "2022-07-03T09:09:21.232961Z"
    },
    "code_folding": [
     0
    ]
   },
   "outputs": [],
   "source": [
    "# Datasetの定義\n",
    "class CreateDataset(Dataset):\n",
    "    def __init__(self, X, y, tokenizer, max_len):\n",
    "        self.X = X\n",
    "        self.y = y\n",
    "        self.tokenizer = tokenizer\n",
    "        self.max_len = max_len\n",
    "\n",
    "    def __len__(self):  # len(Dataset)で返す値を指定\n",
    "        return len(self.y)\n",
    "\n",
    "    def __getitem__(self, index):  # Dataset[index]で返す値を指定\n",
    "        text = self.X[index]\n",
    "        inputs = self.tokenizer.encode_plus(\n",
    "            text,\n",
    "            add_special_tokens=True,\n",
    "            max_length=self.max_len,\n",
    "            pad_to_max_length=True,\n",
    "            truncation=True,\n",
    "        )\n",
    "        input_ids = inputs[\"input_ids\"]\n",
    "        attention_mask = inputs[\"attention_mask\"]\n",
    "        token_type_ids = inputs[\"token_type_ids\"]\n",
    "\n",
    "        return {\n",
    "            \"input_ids\": torch.LongTensor(input_ids),\n",
    "            \"attention_mask\": torch.LongTensor(attention_mask),\n",
    "            \"token_type_ids\": torch.LongTensor(token_type_ids),\n",
    "            \"labels\": torch.Tensor(self.y[index]),\n",
    "        }"
   ]
  },
  {
   "cell_type": "code",
   "execution_count": 33,
   "id": "9cac08ae",
   "metadata": {
    "ExecuteTime": {
     "end_time": "2022-07-03T09:09:21.776558Z",
     "start_time": "2022-07-03T09:09:21.347779Z"
    },
    "code_folding": [
     0
    ]
   },
   "outputs": [],
   "source": [
    "# Datasetの作成\n",
    "max_len = 50\n",
    "MODELNAME = \"microsoft/deberta-xlarge-mnli\"\n",
    "tokenizer = AutoTokenizer.from_pretrained(MODELNAME)\n",
    "\n",
    "dataset_train = CreateDataset(train[\"discourse_text\"], y_train, tokenizer, max_len)\n",
    "dataset_valid = CreateDataset(valid[\"discourse_text\"], y_valid, tokenizer, max_len)\n",
    "dataset_test = CreateDataset(test[\"discourse_text\"], y_test, tokenizer, max_len)"
   ]
  },
  {
   "cell_type": "code",
   "execution_count": 34,
   "id": "c30cb6de",
   "metadata": {
    "ExecuteTime": {
     "end_time": "2022-07-03T09:09:21.782847Z",
     "start_time": "2022-07-03T09:09:21.778647Z"
    },
    "code_folding": [
     1
    ]
   },
   "outputs": [],
   "source": [
    "# BERT分類モデルの定義(Linear)\n",
    "class BERTLinearClass(torch.nn.Module):\n",
    "    def __init__(self, drop_rate, otuput_size):\n",
    "        super().__init__()\n",
    "        self.config = AutoConfig.from_pretrained(MODELNAME)\n",
    "        self.bert = AutoModelForSequenceClassification.from_pretrained(\n",
    "            MODELNAME, output_hidden_states=True\n",
    "        )\n",
    "        self.drop = torch.nn.Dropout(drop_rate)\n",
    "        self.fc = torch.nn.Linear(self.config.hidden_size, otuput_size)\n",
    "\n",
    "    def forward(self, ids, attention_mask, token_type_ids):\n",
    "        out = self.bert(\n",
    "            ids, attention_mask=attention_mask, token_type_ids=token_type_ids\n",
    "        )\n",
    "        out = self.drop(out.hidden_states[-1])\n",
    "        out = self.fc(out[:, 0, :])\n",
    "        return out"
   ]
  },
  {
   "cell_type": "code",
   "execution_count": 85,
   "id": "7f416769",
   "metadata": {
    "ExecuteTime": {
     "end_time": "2022-07-03T09:42:28.323173Z",
     "start_time": "2022-07-03T09:42:28.318454Z"
    },
    "code_folding": [
     1
    ]
   },
   "outputs": [],
   "source": [
    "# BERT分類モデルの定義(Pooling)\n",
    "class BERTPoolingClass(torch.nn.Module):\n",
    "    def __init__(self, drop_rate, otuput_size):\n",
    "        super().__init__()\n",
    "        self.config = AutoConfig.from_pretrained(MODELNAME)\n",
    "        self.bert = AutoModelForSequenceClassification.from_pretrained(\n",
    "            MODELNAME, output_hidden_states=True\n",
    "        )\n",
    "        self.drop = torch.nn.Dropout(drop_rate)\n",
    "        self.pooling = torch.nn.AdaptiveMaxPool1d(1)\n",
    "        self.fc = torch.nn.Linear(self.config.hidden_size, otuput_size)\n",
    "    def forward(self, ids, attention_mask, token_type_ids):\n",
    "        out = self.bert(\n",
    "            ids, attention_mask=attention_mask, token_type_ids=token_type_ids\n",
    "        )\n",
    "        out = self.drop(out.hidden_states[-1])\n",
    "        out, _ = out.max(1)\n",
    "        out = self.fc(out)\n",
    "        return out"
   ]
  },
  {
   "cell_type": "code",
   "execution_count": null,
   "id": "e2103ece",
   "metadata": {},
   "outputs": [],
   "source": [
    "# BERT分類モデルの定義(Couvolution)\n",
    "class BERTConvolutionClass(torch.nn.Module):\n",
    "    def __init__(self, drop_rate, otuput_size):\n",
    "        super().__init__()\n",
    "        self.config = AutoConfig.from_pretrained(MODELNAME)\n",
    "        self.bert = AutoModelForSequenceClassification.from_pretrained(\n",
    "            MODELNAME, output_hidden_states=True\n",
    "        )\n",
    "        self.drop = torch.nn.Dropout(drop_rate)\n",
    "        self.pooling = torch.nn.AdaptiveMaxPool1d(1)\n",
    "        self.fc = torch.nn.Linear(self.config.hidden_size, otuput_size)\n",
    "    def forward(self, ids, attention_mask, token_type_ids):\n",
    "        out = self.bert(\n",
    "            ids, attention_mask=attention_mask, token_type_ids=token_type_ids\n",
    "        )\n",
    "        out = self.drop(out.hidden_states[-1])\n",
    "        out, _ = out.max(1)\n",
    "        out = self.fc(out)\n",
    "        return out"
   ]
  },
  {
   "cell_type": "code",
   "execution_count": 35,
   "id": "893fcbbb",
   "metadata": {
    "ExecuteTime": {
     "end_time": "2022-07-03T09:09:22.567568Z",
     "start_time": "2022-07-03T09:09:22.562585Z"
    },
    "code_folding": [
     0
    ]
   },
   "outputs": [],
   "source": [
    "def calculate_loss_f1(model, criterion, loader, device):\n",
    "    \"\"\"損失・正解率を計算\"\"\"\n",
    "    model.eval()\n",
    "    loss = 0.0\n",
    "    total = 0\n",
    "    correct = 0\n",
    "    with torch.no_grad():\n",
    "        for data in loader:\n",
    "            # デバイスの指定\n",
    "            ids = data[\"ids\"].to(device)\n",
    "            mask = data[\"mask\"].to(device)\n",
    "            labels = data[\"labels\"].to(device)\n",
    "\n",
    "            # 順伝播\n",
    "            outputs = model(ids, mask)\n",
    "\n",
    "            # 損失計算\n",
    "            loss += criterion(outputs, labels).item()\n",
    "\n",
    "            # 確率計算\n",
    "            prob = torch.sigmoid(outputs)\n",
    "            pred = torch.where(prob > 0.5, 1, 0)\n",
    "\n",
    "            # f1スコア計算\n",
    "            f1 = f1_score(pred.cpu().numpy(), labels.cpu().numpy(), average=\"macro\")\n",
    "\n",
    "    return loss / len(loader), f1"
   ]
  },
  {
   "cell_type": "code",
   "execution_count": 36,
   "id": "0f43bc5e",
   "metadata": {
    "ExecuteTime": {
     "end_time": "2022-07-03T09:09:23.397900Z",
     "start_time": "2022-07-03T09:09:23.392453Z"
    },
    "code_folding": [
     0
    ]
   },
   "outputs": [],
   "source": [
    "class EarlyStopping:\n",
    "    def __init__(\n",
    "        self, patience=3, threshold=0.1, verbose=False, path=\"checkpoint_model.pth\"\n",
    "    ):\n",
    "        \"\"\"引数：最小値の非更新数カウンタ、最小値判定の閾値, 表示設定、モデル格納path\"\"\"\n",
    "\n",
    "        self.patience = patience  # 設定ストップカウンタ\n",
    "        self.threshold = threshold  # 最小値判定の閾値。比率で指定\n",
    "        self.verbose = verbose  # 表示の有無\n",
    "        self.counter = 0  # 現在のカウンタ値\n",
    "        self.early_stop = False  # ストップフラグ\n",
    "        self.val_loss_min = np.Inf  # 前回のベストスコア記憶用\n",
    "        self.path = path  # ベストモデル格納path\n",
    "\n",
    "    def __call__(self, val_loss, model):\n",
    "        if val_loss > (1 - self.threshold) * self.val_loss_min:  # ベストスコアを更新できなかった場合\n",
    "            self.counter += 1  # ストップカウンタを+1\n",
    "            if self.verbose:  # 表示を有効にした場合は経過を表示\n",
    "                print(\n",
    "                    f\"EarlyStopping counter: {self.counter} out of {self.patience}\"\n",
    "                )  # 現在のカウンタを表示する\n",
    "            if self.counter >= self.patience:  # 設定カウントを上回ったらストップフラグをTrueに変更\n",
    "                self.early_stop = True\n",
    "                \n",
    "        else:  # ベストスコアを更新した場合\n",
    "            if self.verbose:  # 表示を有効にした場合は、前回のベストスコアからどれだけ更新したか？を表示\n",
    "                print(\n",
    "                    f\"Validation loss decreased ({self.val_loss_min:.6f} --> {val_loss:.6f}).  Saving model ...\"\n",
    "                )\n",
    "            torch.save(model.state_dict(), self.path)  # ベストモデルを指定したpathに保存\n",
    "            \n",
    "            self.val_loss_min = val_loss\n",
    "            self.counter = 0  # ストップカウンタリセット"
   ]
  },
  {
   "cell_type": "code",
   "execution_count": 37,
   "id": "93335120",
   "metadata": {
    "ExecuteTime": {
     "end_time": "2022-07-03T09:09:30.337726Z",
     "start_time": "2022-07-03T09:09:24.047496Z"
    },
    "code_folding": [
     0
    ]
   },
   "outputs": [],
   "source": [
    "# パラメータの設定\n",
    "DROP_RATE = 0.4\n",
    "OUTPUT_SIZE = 3\n",
    "BATCH_SIZE = 2\n",
    "NUM_EPOCHS = 4\n",
    "LEARNING_RATE = 5e-3\n",
    "\n",
    "# モデルの定義\n",
    "model = BERTClass(DROP_RATE, OUTPUT_SIZE)\n",
    "\n",
    "# 損失関数の定義\n",
    "criterion = torch.nn.BCEWithLogitsLoss()\n",
    "\n",
    "# オプティマイザの定義\n",
    "optimizer = torch.optim.AdamW(params=model.parameters(), lr=LEARNING_RATE)\n",
    "\n",
    "# デバイスの指定\n",
    "device = torch.device(\"cuda:0\")\n",
    "\n",
    "# モデルの学習\n",
    "\n",
    "batch_size=BATCH_SIZE\n",
    "num_epochs=NUM_EPOCHS\n",
    "device=device"
   ]
  },
  {
   "cell_type": "code",
   "execution_count": 38,
   "id": "ef2a8e39",
   "metadata": {
    "ExecuteTime": {
     "end_time": "2022-07-03T09:09:30.416748Z",
     "start_time": "2022-07-03T09:09:30.340268Z"
    }
   },
   "outputs": [],
   "source": [
    "torch.cuda.empty_cache()"
   ]
  },
  {
   "cell_type": "code",
   "execution_count": 40,
   "id": "3701a75a",
   "metadata": {
    "ExecuteTime": {
     "end_time": "2022-07-03T09:10:02.907914Z",
     "start_time": "2022-07-03T09:10:02.715510Z"
    },
    "code_folding": []
   },
   "outputs": [
    {
     "name": "stderr",
     "output_type": "stream",
     "text": [
      "  0%|          | 0/916 [00:00<?, ?it/s]\n"
     ]
    }
   ],
   "source": [
    "# デバイスの指定\n",
    "model.to(device)\n",
    "# dataloaderの作成\n",
    "dataloader_train = DataLoader(dataset_train, batch_size=batch_size, shuffle=True)\n",
    "dataloader_valid = DataLoader(\n",
    "    dataset_valid, batch_size=len(dataset_valid), shuffle=False\n",
    ")\n",
    "# 学習\n",
    "log_train = []\n",
    "log_valid = []\n",
    "earlystopping = EarlyStopping(patience=2, threshold=0.05, verbose=True)\n",
    "for epoch in range(num_epochs):\n",
    "    # 開始時刻の記録\n",
    "    s_time = time.time()\n",
    "\n",
    "    # 訓練モードに設定\n",
    "    model.train()\n",
    "    for data in tqdm(dataloader_train):\n",
    "        # デバイスの指定\n",
    "        input_ids = data[\"input_ids\"].to(device)\n",
    "        attention_mask = data[\"attention_mask\"].to(device)\n",
    "        token_type_ids = data[\"token_type_ids\"].to(device)\n",
    "        labels = data[\"labels\"].to(device)\n",
    "\n",
    "        # 勾配をゼロで初期化\n",
    "        optimizer.zero_grad()\n",
    "\n",
    "        # 順伝播 + 誤差逆伝播 + 重み更新\n",
    "        outputs = model(input_ids, attention_mask, token_type_ids)\n",
    "#         loss = criterion(outputs, labels)\n",
    "#         loss.backward()\n",
    "#         optimizer.step()\n",
    "        break\n",
    "    break\n"
   ]
  },
  {
   "cell_type": "code",
   "execution_count": 52,
   "id": "1f3863f1",
   "metadata": {
    "ExecuteTime": {
     "end_time": "2022-07-03T09:17:30.709044Z",
     "start_time": "2022-07-03T09:17:30.705077Z"
    }
   },
   "outputs": [
    {
     "data": {
      "text/plain": [
       "torch.Size([2, 50, 1024])"
      ]
     },
     "execution_count": 52,
     "metadata": {},
     "output_type": "execute_result"
    }
   ],
   "source": [
    "outputs.shape"
   ]
  },
  {
   "cell_type": "code",
   "execution_count": 107,
   "id": "465b2832",
   "metadata": {
    "ExecuteTime": {
     "end_time": "2022-07-03T09:53:38.687976Z",
     "start_time": "2022-07-03T09:53:38.684130Z"
    }
   },
   "outputs": [],
   "source": [
    "cnn1 = torch.nn.Conv1d(1024, 256, kernel_size=2, padding=1, device=device)\n",
    "cnn2 = torch.nn.Conv1d(256, 3, kernel_size=2, padding=1, device=device)"
   ]
  },
  {
   "cell_type": "code",
   "execution_count": 108,
   "id": "6554e7ab",
   "metadata": {
    "ExecuteTime": {
     "end_time": "2022-07-03T09:53:38.985704Z",
     "start_time": "2022-07-03T09:53:38.982937Z"
    }
   },
   "outputs": [],
   "source": [
    "out = outputs.permute(0, 2, 1)"
   ]
  },
  {
   "cell_type": "code",
   "execution_count": 109,
   "id": "c5c276c1",
   "metadata": {
    "ExecuteTime": {
     "end_time": "2022-07-03T09:53:39.185968Z",
     "start_time": "2022-07-03T09:53:39.183030Z"
    }
   },
   "outputs": [],
   "source": [
    "out = torch.nn.functional.relu(cnn1(out))"
   ]
  },
  {
   "cell_type": "code",
   "execution_count": 110,
   "id": "0ee4bcb8",
   "metadata": {
    "ExecuteTime": {
     "end_time": "2022-07-03T09:53:39.406753Z",
     "start_time": "2022-07-03T09:53:39.404087Z"
    }
   },
   "outputs": [],
   "source": [
    "out = cnn2(out)"
   ]
  },
  {
   "cell_type": "code",
   "execution_count": 111,
   "id": "4946ba52",
   "metadata": {
    "ExecuteTime": {
     "end_time": "2022-07-03T09:53:39.646744Z",
     "start_time": "2022-07-03T09:53:39.644013Z"
    }
   },
   "outputs": [],
   "source": [
    "o, _ = torch.max(out, 2)"
   ]
  },
  {
   "cell_type": "code",
   "execution_count": 124,
   "id": "28acdcc5",
   "metadata": {
    "ExecuteTime": {
     "end_time": "2022-07-03T09:56:25.251370Z",
     "start_time": "2022-07-03T09:56:25.247592Z"
    }
   },
   "outputs": [
    {
     "data": {
      "text/plain": [
       "torch.Size([2, 3, 52])"
      ]
     },
     "execution_count": 124,
     "metadata": {},
     "output_type": "execute_result"
    }
   ],
   "source": [
    "out.shape"
   ]
  },
  {
   "cell_type": "code",
   "execution_count": 126,
   "id": "00997b82",
   "metadata": {
    "ExecuteTime": {
     "end_time": "2022-07-03T09:56:50.635325Z",
     "start_time": "2022-07-03T09:56:50.632538Z"
    }
   },
   "outputs": [],
   "source": [
    "pooling = torch.nn.AdaptiveAvgPool1d(1)"
   ]
  },
  {
   "cell_type": "code",
   "execution_count": 128,
   "id": "5635a7ca",
   "metadata": {
    "ExecuteTime": {
     "end_time": "2022-07-03T09:57:04.989348Z",
     "start_time": "2022-07-03T09:57:04.985349Z"
    }
   },
   "outputs": [
    {
     "data": {
      "text/plain": [
       "torch.Size([2, 3, 1])"
      ]
     },
     "execution_count": 128,
     "metadata": {},
     "output_type": "execute_result"
    }
   ],
   "source": [
    "pooling(out).shape"
   ]
  },
  {
   "cell_type": "code",
   "execution_count": 56,
   "id": "ae8a46a5",
   "metadata": {
    "ExecuteTime": {
     "end_time": "2022-07-03T09:18:02.437443Z",
     "start_time": "2022-07-03T09:18:02.434145Z"
    }
   },
   "outputs": [],
   "source": [
    "fc = torch.nn.Linear(\n",
    "            1024, 3, device=device\n",
    "        ) "
   ]
  },
  {
   "cell_type": "code",
   "execution_count": null,
   "id": "3c825420",
   "metadata": {},
   "outputs": [],
   "source": []
  },
  {
   "cell_type": "code",
   "execution_count": null,
   "id": "f5f51d2e",
   "metadata": {},
   "outputs": [],
   "source": []
  },
  {
   "cell_type": "code",
   "execution_count": null,
   "id": "72c70225",
   "metadata": {},
   "outputs": [],
   "source": []
  },
  {
   "cell_type": "code",
   "execution_count": null,
   "id": "c7783898",
   "metadata": {},
   "outputs": [],
   "source": []
  }
 ],
 "metadata": {
  "kernelspec": {
   "display_name": "Python 3 (ipykernel)",
   "language": "python",
   "name": "python3"
  },
  "language_info": {
   "codemirror_mode": {
    "name": "ipython",
    "version": 3
   },
   "file_extension": ".py",
   "mimetype": "text/x-python",
   "name": "python",
   "nbconvert_exporter": "python",
   "pygments_lexer": "ipython3",
   "version": "3.10.5"
  },
  "toc": {
   "base_numbering": 1,
   "nav_menu": {},
   "number_sections": true,
   "sideBar": true,
   "skip_h1_title": false,
   "title_cell": "Table of Contents",
   "title_sidebar": "Contents",
   "toc_cell": false,
   "toc_position": {},
   "toc_section_display": true,
   "toc_window_display": false
  },
  "varInspector": {
   "cols": {
    "lenName": 16,
    "lenType": 16,
    "lenVar": 40
   },
   "kernels_config": {
    "python": {
     "delete_cmd_postfix": "",
     "delete_cmd_prefix": "del ",
     "library": "var_list.py",
     "varRefreshCmd": "print(var_dic_list())"
    },
    "r": {
     "delete_cmd_postfix": ") ",
     "delete_cmd_prefix": "rm(",
     "library": "var_list.r",
     "varRefreshCmd": "cat(var_dic_list()) "
    }
   },
   "types_to_exclude": [
    "module",
    "function",
    "builtin_function_or_method",
    "instance",
    "_Feature"
   ],
   "window_display": false
  }
 },
 "nbformat": 4,
 "nbformat_minor": 5
}

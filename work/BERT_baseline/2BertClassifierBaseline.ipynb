{
 "cells": [
  {
   "cell_type": "markdown",
   "id": "72bf1e6f",
   "metadata": {},
   "source": [
    "# import"
   ]
  },
  {
   "cell_type": "code",
   "execution_count": 1,
   "id": "9cda5c0c",
   "metadata": {
    "ExecuteTime": {
     "end_time": "2022-07-09T08:43:00.622453Z",
     "start_time": "2022-07-09T08:42:58.725194Z"
    }
   },
   "outputs": [],
   "source": [
    "import gc\n",
    "import os\n",
    "import re\n",
    "import sys\n",
    "import time\n",
    "import warnings\n",
    "\n",
    "import numpy as np\n",
    "import pandas as pd\n",
    "import torch\n",
    "from matplotlib import pyplot as plt\n",
    "from sklearn.metrics import (accuracy_score, f1_score, precision_score,\n",
    "                             recall_score)\n",
    "from sklearn.model_selection import train_test_split\n",
    "from torch import nn, optim\n",
    "from torch.utils.data import DataLoader, Dataset\n",
    "from tqdm import tqdm\n",
    "from transformers import AutoConfig, AutoModel, AutoTokenizer"
   ]
  },
  {
   "cell_type": "code",
   "execution_count": 2,
   "id": "ee375d86",
   "metadata": {
    "ExecuteTime": {
     "end_time": "2022-07-09T08:43:00.627810Z",
     "start_time": "2022-07-09T08:43:00.625141Z"
    }
   },
   "outputs": [],
   "source": [
    "#warnings.filterwarnings(\"ignore\")"
   ]
  },
  {
   "cell_type": "code",
   "execution_count": 3,
   "id": "38091ea2",
   "metadata": {
    "ExecuteTime": {
     "end_time": "2022-07-09T08:43:00.633051Z",
     "start_time": "2022-07-09T08:43:00.629669Z"
    }
   },
   "outputs": [],
   "source": [
    "pd.set_option(\"display.max_column\", 100)\n",
    "pd.set_option(\"display.max_row\", 100)"
   ]
  },
  {
   "cell_type": "markdown",
   "id": "d2a9f556",
   "metadata": {},
   "source": [
    "# データの読み込み"
   ]
  },
  {
   "cell_type": "code",
   "execution_count": 4,
   "id": "640c2196",
   "metadata": {
    "ExecuteTime": {
     "end_time": "2022-07-09T08:43:05.073313Z",
     "start_time": "2022-07-09T08:43:04.935191Z"
    },
    "code_folding": []
   },
   "outputs": [],
   "source": [
    "df = pd.read_csv(\n",
    "    \"/home/jovyan/work/data/train.csv\",\n",
    "    index_col=\"discourse_id\"\n",
    ")"
   ]
  },
  {
   "cell_type": "markdown",
   "id": "321e5752",
   "metadata": {},
   "source": [
    "## データのラベル定義"
   ]
  },
  {
   "cell_type": "code",
   "execution_count": 5,
   "id": "2d318091",
   "metadata": {
    "ExecuteTime": {
     "end_time": "2022-07-09T08:43:07.797970Z",
     "start_time": "2022-07-09T08:43:07.795065Z"
    }
   },
   "outputs": [],
   "source": [
    "discourse_types = [\"Lead\", \"Position\", \"Claim\", \"Evidence\", \"Counterclaim\", \"Concluding Statement\", \"Rebuttal\"]\n",
    "target_col_names = [\"Adequate\", \"Effective\", \"Ineffective\"]"
   ]
  },
  {
   "cell_type": "markdown",
   "id": "33623ba2",
   "metadata": {},
   "source": [
    "## データ整形"
   ]
  },
  {
   "cell_type": "code",
   "execution_count": 6,
   "id": "4b2235a1",
   "metadata": {
    "ExecuteTime": {
     "end_time": "2022-07-09T08:43:29.815236Z",
     "start_time": "2022-07-09T08:43:29.800284Z"
    },
    "code_folding": [
     0
    ]
   },
   "outputs": [],
   "source": [
    "# データの抽出\n",
    "df = df.loc[\n",
    "    df[\"discourse_type\"]==discourse_types[0]\n",
    "]\n",
    "\n",
    "# データの分割\n",
    "train, valid_test = train_test_split(\n",
    "    df, test_size=0.2, shuffle=True, random_state=0, stratify=df[\"discourse_effectiveness\"]\n",
    ")\n",
    "valid, test = train_test_split(\n",
    "    valid_test,\n",
    "    test_size=0.2,\n",
    "    shuffle=True,\n",
    "    random_state=0,\n",
    "    stratify=valid_test[\"discourse_effectiveness\"],\n",
    ")"
   ]
  },
  {
   "cell_type": "markdown",
   "id": "050c041a",
   "metadata": {},
   "source": [
    "## インデックスの割り当て"
   ]
  },
  {
   "cell_type": "code",
   "execution_count": 7,
   "id": "5b54738c",
   "metadata": {
    "ExecuteTime": {
     "end_time": "2022-07-09T08:43:41.139619Z",
     "start_time": "2022-07-09T08:43:41.136316Z"
    }
   },
   "outputs": [],
   "source": [
    "def set_index(df, id_col_name):\n",
    "    df.reset_index(inplace=True)\n",
    "    index_id = dict(zip(df.index, df[id_col_name]))\n",
    "    df.drop(id_col_name, inplace=True, axis=1)\n",
    "    return df, index_id"
   ]
  },
  {
   "cell_type": "code",
   "execution_count": 8,
   "id": "8b460341",
   "metadata": {
    "ExecuteTime": {
     "end_time": "2022-07-09T08:43:44.238023Z",
     "start_time": "2022-07-09T08:43:44.230146Z"
    }
   },
   "outputs": [],
   "source": [
    "train, train_index2id = set_index(train, \"discourse_id\")\n",
    "valid, valid_index2id = set_index(valid, \"discourse_id\")\n",
    "test, test_index2id = set_index(test, \"discourse_id\")"
   ]
  },
  {
   "cell_type": "code",
   "execution_count": 9,
   "id": "8ba189ea",
   "metadata": {
    "ExecuteTime": {
     "end_time": "2022-07-09T08:43:46.368331Z",
     "start_time": "2022-07-09T08:43:46.362901Z"
    },
    "code_folding": []
   },
   "outputs": [],
   "source": [
    "# 正解ラベルのone-hot化\n",
    "y_train = pd.get_dummies(train[\"discourse_effectiveness\"]).to_numpy()\n",
    "y_valid = pd.get_dummies(valid[\"discourse_effectiveness\"]).to_numpy()\n",
    "y_test = pd.get_dummies(test[\"discourse_effectiveness\"]).to_numpy()"
   ]
  },
  {
   "cell_type": "code",
   "execution_count": 10,
   "id": "af2a2e29",
   "metadata": {
    "ExecuteTime": {
     "end_time": "2022-07-09T08:44:03.020158Z",
     "start_time": "2022-07-09T08:44:03.015356Z"
    },
    "code_folding": []
   },
   "outputs": [],
   "source": [
    "# Datasetの定義\n",
    "class CreateDataset(Dataset):\n",
    "    def __init__(self, X, y, tokenizer, max_len):\n",
    "        self.X = X\n",
    "        self.y = y\n",
    "        self.tokenizer = tokenizer\n",
    "        self.max_len = max_len\n",
    "\n",
    "    def __len__(self):  # len(Dataset)で返す値を指定\n",
    "        return len(self.y)\n",
    "\n",
    "    def __getitem__(self, index):  # Dataset[index]で返す値を指定\n",
    "        text = self.X[index]\n",
    "        inputs = self.tokenizer.encode_plus(\n",
    "            text,\n",
    "            add_special_tokens=True,\n",
    "            max_length=self.max_len,\n",
    "            padding=\"max_length\",\n",
    "            truncation=True,\n",
    "        )\n",
    "        input_ids = inputs[\"input_ids\"]\n",
    "        attention_mask = inputs[\"attention_mask\"]\n",
    "        token_type_ids = inputs[\"token_type_ids\"]\n",
    "\n",
    "        return {\n",
    "            \"input_ids\": torch.LongTensor(input_ids),\n",
    "            \"attention_mask\": torch.LongTensor(attention_mask),\n",
    "            \"token_type_ids\": torch.LongTensor(token_type_ids),\n",
    "            \"labels\": torch.Tensor(self.y[index]),\n",
    "        }"
   ]
  },
  {
   "cell_type": "code",
   "execution_count": 11,
   "id": "9cac08ae",
   "metadata": {
    "ExecuteTime": {
     "end_time": "2022-07-09T08:44:08.472126Z",
     "start_time": "2022-07-09T08:44:07.950334Z"
    },
    "code_folding": []
   },
   "outputs": [],
   "source": [
    "# Datasetの作成\n",
    "max_len = 100\n",
    "MODELNAME = \"microsoft/deberta-xlarge-mnli\"\n",
    "tokenizer = AutoTokenizer.from_pretrained(MODELNAME)\n",
    "\n",
    "dataset_train = CreateDataset(train[\"discourse_text\"], y_train, tokenizer, max_len)\n",
    "dataset_valid = CreateDataset(valid[\"discourse_text\"], y_valid, tokenizer, max_len)\n",
    "dataset_test = CreateDataset(test[\"discourse_text\"], y_test, tokenizer, max_len)"
   ]
  },
  {
   "cell_type": "code",
   "execution_count": 12,
   "id": "670e3dc6",
   "metadata": {
    "ExecuteTime": {
     "end_time": "2022-07-09T08:44:42.159214Z",
     "start_time": "2022-07-09T08:44:42.155884Z"
    },
    "code_folding": []
   },
   "outputs": [],
   "source": [
    "# BERT分類モデルの抽象クラス\n",
    "class BERTClass(torch.nn.Module):\n",
    "    def __init__(self, config):\n",
    "        super().__init__()\n",
    "        self.config = config\n",
    "        self.bert = AutoModel.from_pretrained(\n",
    "            MODELNAME, output_hidden_states=True\n",
    "        )"
   ]
  },
  {
   "cell_type": "code",
   "execution_count": 13,
   "id": "c30cb6de",
   "metadata": {
    "ExecuteTime": {
     "end_time": "2022-07-09T08:44:42.680167Z",
     "start_time": "2022-07-09T08:44:42.676107Z"
    },
    "code_folding": []
   },
   "outputs": [],
   "source": [
    "# BERT分類モデルの定義(Linear)\n",
    "class BERTLinearClass(BERTClass):\n",
    "    def __init__(self, config):\n",
    "        super().__init__(config)\n",
    "        self.drop = nn.Dropout(self.config[\"drop_rate\"])\n",
    "        self.fc = nn.Linear(\n",
    "            self.config[\"hidden_size\"], self.config[\"output_size\"]\n",
    "        )\n",
    "\n",
    "    def forward(self, input_ids, attention_mask, token_type_ids):\n",
    "        out = self.bert(\n",
    "            input_ids, attention_mask=attention_mask, token_type_ids=token_type_ids\n",
    "        )\n",
    "        out = self.drop(out.hidden_states[-1])\n",
    "        out = self.fc(out[:, 0, :])\n",
    "        return out"
   ]
  },
  {
   "cell_type": "code",
   "execution_count": 14,
   "id": "7f416769",
   "metadata": {
    "ExecuteTime": {
     "end_time": "2022-07-09T08:44:43.184760Z",
     "start_time": "2022-07-09T08:44:43.180182Z"
    },
    "code_folding": []
   },
   "outputs": [],
   "source": [
    "# BERT分類モデルの定義(Pooling)\n",
    "class BERTPoolingClass(BERTClass):\n",
    "    def __init__(self, config):\n",
    "        super().__init__(config)\n",
    "        self.drop = nn.Dropout(self.config[\"drop_rate\"])\n",
    "        self.drop = nn.Dropout(self.config[\"drop_rate\"])\n",
    "        self.pooling = nn.AdaptiveMaxPool1d(1)\n",
    "        self.fc = nn.Linear(\n",
    "            self.config[\"hidden_size\"], self.config[\"output_size\"]\n",
    "        )\n",
    "\n",
    "    def forward(self, input_ids, attention_mask, token_type_ids):\n",
    "        out = self.bert(\n",
    "            input_ids, attention_mask=attention_mask, token_type_ids=token_type_ids\n",
    "        )\n",
    "        out = self.drop(out.hidden_states[-1])\n",
    "        out, _ = out.max(1)\n",
    "        out = self.fc(out)\n",
    "        return out"
   ]
  },
  {
   "cell_type": "code",
   "execution_count": 15,
   "id": "e2103ece",
   "metadata": {
    "ExecuteTime": {
     "end_time": "2022-07-09T08:44:44.160765Z",
     "start_time": "2022-07-09T08:44:44.156035Z"
    },
    "code_folding": []
   },
   "outputs": [],
   "source": [
    "# BERT分類モデルの定義(Couvolution)\n",
    "class BERTConvolutionClass(BERTClass):\n",
    "    def __init__(self, config):\n",
    "        super().__init__(config)\n",
    "        self.drop = nn.Dropout(self.config[\"drop_rate\"])\n",
    "        self.cnn1 = nn.Conv1d(\n",
    "            self.config[\"hidden_size\"], 256, kernel_size=2, padding=1\n",
    "        )\n",
    "        self.cnn2 = nn.Conv1d(256, 1, kernel_size=2, padding=1)\n",
    "\n",
    "    def forward(self, input_ids, attention_mask, token_type_ids):\n",
    "        out = (\n",
    "            self.bert(\n",
    "                input_ids, attention_mask=attention_mask, token_type_ids=token_type_ids\n",
    "            )\n",
    "            .hidden_states[-1]\n",
    "            .permute(0, 2, 1)\n",
    "        )\n",
    "        out = nn.functional.relu(self.cnn1(out))\n",
    "        out = self.cnn2(out)\n",
    "        out, _ = torch.max(out, 2)\n",
    "        return out"
   ]
  },
  {
   "cell_type": "code",
   "execution_count": 16,
   "id": "fb408e2b",
   "metadata": {
    "ExecuteTime": {
     "end_time": "2022-07-09T08:44:44.982026Z",
     "start_time": "2022-07-09T08:44:44.977442Z"
    },
    "code_folding": []
   },
   "outputs": [],
   "source": [
    "# BERT分類モデルの定義(Concatenate)\n",
    "class BERTConcatenateClass(BERTClass):\n",
    "    def __init__(self, config):\n",
    "        super().__init__(config)\n",
    "        self.drop = nn.Dropout(self.config[\"drop_rate\"])\n",
    "        self.fc = nn.Linear(\n",
    "            self.config[\"hidden_size\"] * 4, self.config[\"output_size\"]\n",
    "        )\n",
    "\n",
    "    def forward(self, input_ids, attention_mask, token_type_ids):\n",
    "        out = self.bert(\n",
    "            input_ids, attention_mask=attention_mask, token_type_ids=token_type_ids\n",
    "        )\n",
    "        out = torch.cat(\n",
    "            [out[\"hidden_states\"][-1 * i][:, 0] for i in range(1, 4 + 1)], dim=1\n",
    "        )  # concatenate\n",
    "        out = self.fc(out)\n",
    "\n",
    "        return out"
   ]
  },
  {
   "cell_type": "code",
   "execution_count": 17,
   "id": "893fcbbb",
   "metadata": {
    "ExecuteTime": {
     "end_time": "2022-07-09T08:44:46.502940Z",
     "start_time": "2022-07-09T08:44:46.497970Z"
    },
    "code_folding": [
     0
    ]
   },
   "outputs": [],
   "source": [
    "def calculate_loss_f1(model, criterion, loader, device):\n",
    "    \"\"\"損失・正解率を計算\"\"\"\n",
    "    model.eval()\n",
    "    loss = 0.0\n",
    "    total = 0\n",
    "    correct = 0\n",
    "    with torch.no_grad():\n",
    "        for data in loader:\n",
    "            # デバイスの指定\n",
    "            ids = data[\"ids\"].to(device)\n",
    "            mask = data[\"mask\"].to(device)\n",
    "            labels = data[\"labels\"].to(device)\n",
    "\n",
    "            # 順伝播\n",
    "            outputs = model(ids, mask)\n",
    "\n",
    "            # 損失計算\n",
    "            loss += criterion(outputs, labels).item()\n",
    "\n",
    "            # 確率計算\n",
    "            prob = torch.sigmoid(outputs)\n",
    "            pred = torch.where(prob > 0.5, 1, 0)\n",
    "\n",
    "            # f1スコア計算\n",
    "            f1 = f1_score(pred.cpu().numpy(), labels.cpu().numpy(), average=\"macro\")\n",
    "\n",
    "    return loss / len(loader), f1"
   ]
  },
  {
   "cell_type": "code",
   "execution_count": 18,
   "id": "0f43bc5e",
   "metadata": {
    "ExecuteTime": {
     "end_time": "2022-07-09T08:44:47.985667Z",
     "start_time": "2022-07-09T08:44:47.980265Z"
    },
    "code_folding": [
     0
    ]
   },
   "outputs": [],
   "source": [
    "# EralyStopクラス\n",
    "class EarlyStopping:\n",
    "    def __init__(\n",
    "        self, patience=3, threshold=0.1, verbose=False, path=\"checkpoint_model.pth\"\n",
    "    ):\n",
    "        \"\"\"引数：最小値の非更新数カウンタ、最小値判定の閾値, 表示設定、モデル格納path\"\"\"\n",
    "\n",
    "        self.patience = patience  # 設定ストップカウンタ\n",
    "        self.threshold = threshold  # 最小値判定の閾値。比率で指定\n",
    "        self.verbose = verbose  # 表示の有無\n",
    "        self.counter = 0  # 現在のカウンタ値\n",
    "        self.early_stop = False  # ストップフラグ\n",
    "        self.val_loss_min = np.Inf  # 前回のベストスコア記憶用\n",
    "        self.path = path  # ベストモデル格納path\n",
    "\n",
    "    def __call__(self, val_loss, model):\n",
    "        if val_loss > (1 - self.threshold) * self.val_loss_min:  # ベストスコアを更新できなかった場合\n",
    "            self.counter += 1  # ストップカウンタを+1\n",
    "            if self.verbose:  # 表示を有効にした場合は経過を表示\n",
    "                print(\n",
    "                    f\"EarlyStopping counter: {self.counter} out of {self.patience}\"\n",
    "                )  # 現在のカウンタを表示する\n",
    "            if self.counter >= self.patience:  # 設定カウントを上回ったらストップフラグをTrueに変更\n",
    "                self.early_stop = True\n",
    "                \n",
    "        else:  # ベストスコアを更新した場合\n",
    "            if self.verbose:  # 表示を有効にした場合は、前回のベストスコアからどれだけ更新したか？を表示\n",
    "                print(\n",
    "                    f\"Validation loss decreased ({self.val_loss_min:.6f} --> {val_loss:.6f}).  Saving model ...\"\n",
    "                )\n",
    "            torch.save(model.state_dict(), self.path)  # ベストモデルを指定したpathに保存\n",
    "            \n",
    "            self.val_loss_min = val_loss\n",
    "            self.counter = 0  # ストップカウンタリセット"
   ]
  },
  {
   "cell_type": "code",
   "execution_count": 16,
   "id": "3701a75a",
   "metadata": {
    "ExecuteTime": {
     "end_time": "2022-07-03T05:46:26.275192Z",
     "start_time": "2022-07-03T05:46:26.268398Z"
    },
    "code_folding": [
     0,
     8
    ]
   },
   "outputs": [],
   "source": [
    "def train_model(\n",
    "    dataset_train,\n",
    "    dataset_valid,\n",
    "    model,\n",
    "    criterion,\n",
    "    optimizer,\n",
    "    config,\n",
    "    device=None,\n",
    "):\n",
    "    \"\"\"モデルの学習を実行し、損失・正解率のログを返す\"\"\"\n",
    "    # デバイスの指定\n",
    "    model.to(device)\n",
    "\n",
    "    # dataloaderの作成\n",
    "    dataloader_train = DataLoader(\n",
    "        dataset_train, batch_size=config[\"train_batch_size\"], shuffle=True\n",
    "    )\n",
    "    dataloader_valid = DataLoader(\n",
    "        dataset_valid, batch_size=config[\"valid_batch_size\"], shuffle=False\n",
    "    )\n",
    "\n",
    "    # 学習\n",
    "    log_train = []\n",
    "    log_valid = []\n",
    "\n",
    "    earlystopping = EarlyStopping(patience=2, threshold=0.05, verbose=True)\n",
    "    for epoch in range(config[\"num_epochs\"]):\n",
    "        # 開始時刻の記録\n",
    "        s_time = time.time()\n",
    "\n",
    "        # 訓練モードに設定\n",
    "        model.train()\n",
    "        for data in tqdm(dataloader_train):\n",
    "            # デバイスの指定\n",
    "            input_ids = data[\"input_ids\"].to(device)\n",
    "            attention_mask = data[\"attention_mask\"].to(device)\n",
    "            token_type_ids = data[\"token_type_ids\"].to(device)\n",
    "            labels = data[\"labels\"].to(device)\n",
    "\n",
    "            # 勾配をゼロで初期化\n",
    "            optimizer.zero_grad()\n",
    "\n",
    "            # 順伝播 + 誤差逆伝播 + 重み更新\n",
    "            outputs = model(input_ids, attention_mask)\n",
    "            loss = criterion(outputs, labels)\n",
    "            loss.backward()\n",
    "            optimizer.step()\n",
    "            torch.cuda.empty_cache()\n",
    "\n",
    "            # 損失と正解率の算出\n",
    "            loss_train, f1_train = calculate_loss_f1(\n",
    "                model, criterion, dataloader_train, device\n",
    "            )\n",
    "            loss_valid, f1_valid = calculate_loss_f1(\n",
    "                model, criterion, dataloader_valid, device\n",
    "            )\n",
    "            log_train.append([loss_train, f1_train])\n",
    "            log_valid.append([loss_valid, f1_valid])\n",
    "\n",
    "            # 終了時刻の記録\n",
    "            e_time = time.time()\n",
    "\n",
    "        # ログを出力\n",
    "        print(\n",
    "            f\"epoch: {epoch + 1}, loss_train: {loss_train:.4f}, loss_valid: {loss_valid:.4f}, {(e_time - s_time):.4f}sec\"\n",
    "        )\n",
    "\n",
    "        # 毎エポックearlystoppingの判定をさせる\n",
    "        earlystopping(loss_valid, model)  # callメソッド呼び出し\n",
    "        if earlystopping.early_stop:  # ストップフラグがTrueの場合、breakでforループを抜ける\n",
    "            print(\"Early Stopping!\")\n",
    "            break\n",
    "\n",
    "    return {\"train\": log_train, \"valid\": log_valid}"
   ]
  },
  {
   "cell_type": "code",
   "execution_count": 19,
   "id": "9b446a55",
   "metadata": {
    "ExecuteTime": {
     "end_time": "2022-07-09T08:44:49.403923Z",
     "start_time": "2022-07-09T08:44:49.375099Z"
    },
    "code_folding": [
     0
    ]
   },
   "outputs": [],
   "source": [
    "# パラメータの設定\n",
    "config = AutoConfig.from_pretrained(MODELNAME).to_dict()\n",
    "config[\"drop_rate\"] = 0.4\n",
    "config[\"output_size\"] = 3\n",
    "config[\"train_batch_size\"] = 4\n",
    "config[\"valid_batch_size\"] = 4\n",
    "config[\"num_epochs\"] = 4\n",
    "config[\"learning_rate\"] = 5e-3"
   ]
  },
  {
   "cell_type": "code",
   "execution_count": 17,
   "id": "93335120",
   "metadata": {
    "ExecuteTime": {
     "end_time": "2022-07-03T05:46:39.133492Z",
     "start_time": "2022-07-03T05:46:26.277210Z"
    },
    "code_folding": []
   },
   "outputs": [
    {
     "name": "stderr",
     "output_type": "stream",
     "text": [
      "  0%|          | 0/229 [00:00<?, ?it/s]\n"
     ]
    },
    {
     "ename": "ValueError",
     "evalue": "not enough values to unpack (expected 2, got 1)",
     "output_type": "error",
     "traceback": [
      "\u001b[0;31m---------------------------------------------------------------------------\u001b[0m",
      "\u001b[0;31mValueError\u001b[0m                                Traceback (most recent call last)",
      "Input \u001b[0;32mIn [17]\u001b[0m, in \u001b[0;36m<cell line: 21>\u001b[0;34m()\u001b[0m\n\u001b[1;32m     18\u001b[0m device \u001b[38;5;241m=\u001b[39m torch\u001b[38;5;241m.\u001b[39mdevice(\u001b[38;5;124m\"\u001b[39m\u001b[38;5;124mcuda:0\u001b[39m\u001b[38;5;124m\"\u001b[39m)\n\u001b[1;32m     20\u001b[0m \u001b[38;5;66;03m# モデルの学習\u001b[39;00m\n\u001b[0;32m---> 21\u001b[0m log \u001b[38;5;241m=\u001b[39m \u001b[43mtrain_model\u001b[49m\u001b[43m(\u001b[49m\n\u001b[1;32m     22\u001b[0m \u001b[43m    \u001b[49m\u001b[43mdataset_train\u001b[49m\u001b[43m,\u001b[49m\n\u001b[1;32m     23\u001b[0m \u001b[43m    \u001b[49m\u001b[43mdataset_valid\u001b[49m\u001b[43m,\u001b[49m\n\u001b[1;32m     24\u001b[0m \u001b[43m    \u001b[49m\u001b[43mBATCH_SIZE\u001b[49m\u001b[43m,\u001b[49m\n\u001b[1;32m     25\u001b[0m \u001b[43m    \u001b[49m\u001b[43mmodel\u001b[49m\u001b[43m,\u001b[49m\n\u001b[1;32m     26\u001b[0m \u001b[43m    \u001b[49m\u001b[43mcriterion\u001b[49m\u001b[43m,\u001b[49m\n\u001b[1;32m     27\u001b[0m \u001b[43m    \u001b[49m\u001b[43moptimizer\u001b[49m\u001b[43m,\u001b[49m\n\u001b[1;32m     28\u001b[0m \u001b[43m    \u001b[49m\u001b[43mNUM_EPOCHS\u001b[49m\u001b[43m,\u001b[49m\n\u001b[1;32m     29\u001b[0m \u001b[43m    \u001b[49m\u001b[43mdevice\u001b[49m\u001b[38;5;241;43m=\u001b[39;49m\u001b[43mdevice\u001b[49m\u001b[43m,\u001b[49m\n\u001b[1;32m     30\u001b[0m \u001b[43m)\u001b[49m\n",
      "Input \u001b[0;32mIn [16]\u001b[0m, in \u001b[0;36mtrain_model\u001b[0;34m(dataset_train, dataset_valid, batch_size, model, criterion, optimizer, num_epochs, device)\u001b[0m\n\u001b[1;32m     39\u001b[0m optimizer\u001b[38;5;241m.\u001b[39mzero_grad()\n\u001b[1;32m     41\u001b[0m \u001b[38;5;66;03m# 順伝播 + 誤差逆伝播 + 重み更新\u001b[39;00m\n\u001b[0;32m---> 42\u001b[0m outputs \u001b[38;5;241m=\u001b[39m \u001b[43mmodel\u001b[49m\u001b[43m(\u001b[49m\u001b[43mids\u001b[49m\u001b[43m,\u001b[49m\u001b[43m \u001b[49m\u001b[43mmask\u001b[49m\u001b[43m)\u001b[49m\n\u001b[1;32m     43\u001b[0m loss \u001b[38;5;241m=\u001b[39m criterion(outputs, labels)\n\u001b[1;32m     44\u001b[0m loss\u001b[38;5;241m.\u001b[39mbackward()\n",
      "File \u001b[0;32m/opt/conda/lib/python3.10/site-packages/torch/nn/modules/module.py:1130\u001b[0m, in \u001b[0;36mModule._call_impl\u001b[0;34m(self, *input, **kwargs)\u001b[0m\n\u001b[1;32m   1126\u001b[0m \u001b[38;5;66;03m# If we don't have any hooks, we want to skip the rest of the logic in\u001b[39;00m\n\u001b[1;32m   1127\u001b[0m \u001b[38;5;66;03m# this function, and just call forward.\u001b[39;00m\n\u001b[1;32m   1128\u001b[0m \u001b[38;5;28;01mif\u001b[39;00m \u001b[38;5;129;01mnot\u001b[39;00m (\u001b[38;5;28mself\u001b[39m\u001b[38;5;241m.\u001b[39m_backward_hooks \u001b[38;5;129;01mor\u001b[39;00m \u001b[38;5;28mself\u001b[39m\u001b[38;5;241m.\u001b[39m_forward_hooks \u001b[38;5;129;01mor\u001b[39;00m \u001b[38;5;28mself\u001b[39m\u001b[38;5;241m.\u001b[39m_forward_pre_hooks \u001b[38;5;129;01mor\u001b[39;00m _global_backward_hooks\n\u001b[1;32m   1129\u001b[0m         \u001b[38;5;129;01mor\u001b[39;00m _global_forward_hooks \u001b[38;5;129;01mor\u001b[39;00m _global_forward_pre_hooks):\n\u001b[0;32m-> 1130\u001b[0m     \u001b[38;5;28;01mreturn\u001b[39;00m \u001b[43mforward_call\u001b[49m\u001b[43m(\u001b[49m\u001b[38;5;241;43m*\u001b[39;49m\u001b[38;5;28;43minput\u001b[39;49m\u001b[43m,\u001b[49m\u001b[43m \u001b[49m\u001b[38;5;241;43m*\u001b[39;49m\u001b[38;5;241;43m*\u001b[39;49m\u001b[43mkwargs\u001b[49m\u001b[43m)\u001b[49m\n\u001b[1;32m   1131\u001b[0m \u001b[38;5;66;03m# Do not call functions when jit is used\u001b[39;00m\n\u001b[1;32m   1132\u001b[0m full_backward_hooks, non_full_backward_hooks \u001b[38;5;241m=\u001b[39m [], []\n",
      "Input \u001b[0;32mIn [13]\u001b[0m, in \u001b[0;36mBERTClass.forward\u001b[0;34m(self, ids, mask)\u001b[0m\n\u001b[1;32m      9\u001b[0m \u001b[38;5;28;01mdef\u001b[39;00m \u001b[38;5;21mforward\u001b[39m(\u001b[38;5;28mself\u001b[39m, ids, mask):\n\u001b[0;32m---> 10\u001b[0m     out, _ \u001b[38;5;241m=\u001b[39m \u001b[38;5;28mself\u001b[39m\u001b[38;5;241m.\u001b[39mbert(ids, attention_mask\u001b[38;5;241m=\u001b[39mmask)\n\u001b[1;32m     11\u001b[0m     out \u001b[38;5;241m=\u001b[39m \u001b[38;5;28mself\u001b[39m\u001b[38;5;241m.\u001b[39mfc(\u001b[38;5;28mself\u001b[39m\u001b[38;5;241m.\u001b[39mdrop(out))\n\u001b[1;32m     12\u001b[0m     \u001b[38;5;28;01mreturn\u001b[39;00m out\n",
      "\u001b[0;31mValueError\u001b[0m: not enough values to unpack (expected 2, got 1)"
     ]
    }
   ],
   "source": [
    "# モデルの定義\n",
    "model = BERTLinearClass(config)\n",
    "\n",
    "# 損失関数の定義\n",
    "criterion = torch.nn.BCEWithLogitsLoss()\n",
    "\n",
    "# オプティマイザの定義\n",
    "optimizer = torch.optim.AdamW(params=model.parameters(), lr=LEARNING_RATE)\n",
    "\n",
    "# デバイスの指定\n",
    "device = torch.device(\"cuda:0\")\n",
    "\n",
    "# モデルの学習\n",
    "log = train_model(\n",
    "    dataset_train,\n",
    "    dataset_valid,\n",
    "    BATCH_SIZE,\n",
    "    model,\n",
    "    criterion,\n",
    "    optimizer,\n",
    "    NUM_EPOCHS,\n",
    "    device=device,\n",
    ")"
   ]
  },
  {
   "cell_type": "code",
   "execution_count": null,
   "id": "9baa58e3",
   "metadata": {
    "ExecuteTime": {
     "end_time": "2022-07-03T05:46:39.136218Z",
     "start_time": "2022-07-03T05:46:39.136196Z"
    }
   },
   "outputs": [],
   "source": [
    "# ログの可視化\n",
    "x_axis = [x for x in range(1, len(log[\"train\"]) + 1)]\n",
    "fig, ax = plt.subplots(1, 2, figsize=(15, 5))\n",
    "ax[0].plot(x_axis, np.array(log[\"train\"]).T[0], label=\"train\")\n",
    "ax[0].plot(x_axis, np.array(log[\"valid\"]).T[0], label=\"valid\")\n",
    "ax[0].set_xlabel(\"epoch\")\n",
    "ax[0].set_ylabel(\"loss\")\n",
    "ax[0].legend()\n",
    "ax[1].plot(x_axis, np.array(log[\"train\"]).T[1], label=\"train\")\n",
    "ax[1].plot(x_axis, np.array(log[\"valid\"]).T[1], label=\"valid\")\n",
    "ax[1].set_xlabel(\"epoch\")\n",
    "ax[1].set_ylabel(\"accuracy\")\n",
    "ax[1].legend()\n",
    "plt.show()"
   ]
  },
  {
   "cell_type": "code",
   "execution_count": null,
   "id": "5ac88682",
   "metadata": {
    "ExecuteTime": {
     "end_time": "2022-07-03T05:38:59.718069Z",
     "start_time": "2022-07-03T05:38:59.718046Z"
    }
   },
   "outputs": [],
   "source": [
    "def prediction(model, dataset, device):\n",
    "    # Dataloaderの作成\n",
    "    loader = DataLoader(dataset, batch_size=100, shuffle=False)\n",
    "\n",
    "    model.eval()\n",
    "  \n",
    "    prob = []\n",
    "    pred = []\n",
    "    label = []\n",
    "    with torch.no_grad():\n",
    "        for data in loader:\n",
    "            # デバイスの指定\n",
    "            ids = data[\"ids\"].to(device)\n",
    "            mask = data[\"mask\"].to(device)\n",
    "            label.append(data[\"labels\"].to(device))\n",
    "\n",
    "            # 順伝播 + 予測値の取得 \n",
    "            outputs = model.forward(ids, mask)\n",
    "            prob.append(torch.sigmoid(outputs))\n",
    "            pred.append(torch.where(outputs>0.5, 1, 0))\n",
    "            \n",
    "        pred = torch.cat(pred, dim=0)\n",
    "        prob = torch.cat(prob, dim=0)\n",
    "        label = torch.cat(label, dim=0)\n",
    "        \n",
    "        del model, loader\n",
    "        gc.collect()\n",
    "        return pred, label, prob"
   ]
  },
  {
   "cell_type": "code",
   "execution_count": null,
   "id": "d14ab3f5",
   "metadata": {
    "ExecuteTime": {
     "end_time": "2022-07-03T05:37:44.420529Z",
     "start_time": "2022-07-03T05:37:44.420509Z"
    },
    "scrolled": true
   },
   "outputs": [],
   "source": [
    "pred_train, label_train, prob_train = prediction(model, dataset_train, device)\n",
    "pred_valid, label_valid, prob_valid = prediction(model, dataset_valid, device)\n",
    "pred_test, label_test, prob_test = prediction(model, dataset_test, device)"
   ]
  },
  {
   "cell_type": "code",
   "execution_count": null,
   "id": "db139cb1",
   "metadata": {
    "ExecuteTime": {
     "end_time": "2022-07-03T05:37:44.422296Z",
     "start_time": "2022-07-03T05:37:44.422276Z"
    }
   },
   "outputs": [],
   "source": [
    "dataTypes = [\"pred\", \"label\", \"prob\"]\n",
    "trains = [pred_train, label_train, prob_train]\n",
    "valids = [pred_valid, label_valid, prob_valid]\n",
    "tests = [pred_test, label_test, prob_test ]"
   ]
  },
  {
   "cell_type": "code",
   "execution_count": null,
   "id": "64c39c55",
   "metadata": {
    "ExecuteTime": {
     "end_time": "2022-07-03T05:37:44.423885Z",
     "start_time": "2022-07-03T05:37:44.423865Z"
    }
   },
   "outputs": [],
   "source": [
    "trains = dict(\n",
    "    zip(\n",
    "        dataTypes,\n",
    "        [pd.DataFrame(_.cpu().numpy(), columns=target_col_names) for _ in trains],\n",
    "    )\n",
    ")\n",
    "valids = dict(\n",
    "    zip(\n",
    "        dataTypes,\n",
    "        [pd.DataFrame(_.cpu().numpy(), columns=target_col_names) for _ in valids],\n",
    "    )\n",
    ")\n",
    "tests = dict(\n",
    "    zip(\n",
    "        dataTypes,\n",
    "        [pd.DataFrame(_.cpu().numpy(), columns=target_col_names) for _ in tests],\n",
    "    )\n",
    ")"
   ]
  },
  {
   "cell_type": "code",
   "execution_count": null,
   "id": "55d3dd7c",
   "metadata": {
    "ExecuteTime": {
     "end_time": "2022-07-03T05:37:44.425572Z",
     "start_time": "2022-07-03T05:37:44.425552Z"
    }
   },
   "outputs": [],
   "source": [
    "#precision, recallの算出\n",
    "def calculate_pr_rc(pred, label):\n",
    "    pr_rc = []\n",
    "    for col in pred.columns:\n",
    "        pr = precision_score(pred.loc[:, col].values, label.loc[:, col].values)\n",
    "        rc = recall_score(pred.loc[:, col].values, label.loc[:, col].values)\n",
    "        pr_rc.append([pr, rc])\n",
    "    return pr_rc"
   ]
  },
  {
   "cell_type": "code",
   "execution_count": null,
   "id": "fcc84c7a",
   "metadata": {
    "ExecuteTime": {
     "end_time": "2022-07-03T05:37:44.427223Z",
     "start_time": "2022-07-03T05:37:44.427203Z"
    }
   },
   "outputs": [],
   "source": [
    "test_pr_rc = pd.DataFrame(\n",
    "    calculate_pr_rc(tests[\"pred\"], tests[\"label\"]),\n",
    "    index=target_col_names,\n",
    "    columns=[\"precision\", \"recall\"]\n",
    ").T"
   ]
  },
  {
   "cell_type": "code",
   "execution_count": null,
   "id": "10c761f6",
   "metadata": {
    "ExecuteTime": {
     "end_time": "2022-07-03T05:37:44.428798Z",
     "start_time": "2022-07-03T05:37:44.428778Z"
    }
   },
   "outputs": [],
   "source": [
    "def plot_performance(performances):\n",
    "    plt.rcParams[\"font.size\"] = 16\n",
    "    \n",
    "    length = len(performances.columns)\n",
    "    \n",
    "    plt.figure(figsize=(25, 10))\n",
    "    left = np.arange(length)\n",
    "    \n",
    "    plt.bar(left - 0.2, performances.loc[\"precision\", :], width=0.4, label=\"precision\")\n",
    "    plt.bar(left + 0.2, performances.loc[\"recall\", :], width=0.4, label=\"recall\")\n",
    "    plt.xticks(np.arange(length), performances.columns.tolist(), rotation=90)\n",
    "    plt.yticks(np.arange(11)*0.1, np.round(np.arange(11)*0.1, 1))\n",
    "    plt.grid(axis=\"y\")\n",
    "    plt.title(\"precision  vs recall \")\n",
    "    plt.legend(loc=\"upper left\")\n",
    "    plt.show()"
   ]
  },
  {
   "cell_type": "code",
   "execution_count": null,
   "id": "41f64868",
   "metadata": {
    "ExecuteTime": {
     "end_time": "2022-07-03T05:34:33.901215Z",
     "start_time": "2022-07-03T05:34:33.901203Z"
    }
   },
   "outputs": [],
   "source": [
    "plot_performance(test_pr_rc)"
   ]
  },
  {
   "cell_type": "code",
   "execution_count": null,
   "id": "d244230f",
   "metadata": {},
   "outputs": [],
   "source": []
  },
  {
   "cell_type": "code",
   "execution_count": null,
   "id": "3c825420",
   "metadata": {},
   "outputs": [],
   "source": []
  },
  {
   "cell_type": "code",
   "execution_count": null,
   "id": "f5f51d2e",
   "metadata": {},
   "outputs": [],
   "source": []
  },
  {
   "cell_type": "code",
   "execution_count": null,
   "id": "72c70225",
   "metadata": {},
   "outputs": [],
   "source": []
  },
  {
   "cell_type": "code",
   "execution_count": null,
   "id": "c7783898",
   "metadata": {},
   "outputs": [],
   "source": []
  }
 ],
 "metadata": {
  "kernelspec": {
   "display_name": "Python 3 (ipykernel)",
   "language": "python",
   "name": "python3"
  },
  "language_info": {
   "codemirror_mode": {
    "name": "ipython",
    "version": 3
   },
   "file_extension": ".py",
   "mimetype": "text/x-python",
   "name": "python",
   "nbconvert_exporter": "python",
   "pygments_lexer": "ipython3",
   "version": "3.10.5"
  },
  "toc": {
   "base_numbering": 1,
   "nav_menu": {},
   "number_sections": true,
   "sideBar": true,
   "skip_h1_title": false,
   "title_cell": "Table of Contents",
   "title_sidebar": "Contents",
   "toc_cell": false,
   "toc_position": {},
   "toc_section_display": true,
   "toc_window_display": false
  },
  "varInspector": {
   "cols": {
    "lenName": 16,
    "lenType": 16,
    "lenVar": 40
   },
   "kernels_config": {
    "python": {
     "delete_cmd_postfix": "",
     "delete_cmd_prefix": "del ",
     "library": "var_list.py",
     "varRefreshCmd": "print(var_dic_list())"
    },
    "r": {
     "delete_cmd_postfix": ") ",
     "delete_cmd_prefix": "rm(",
     "library": "var_list.r",
     "varRefreshCmd": "cat(var_dic_list()) "
    }
   },
   "types_to_exclude": [
    "module",
    "function",
    "builtin_function_or_method",
    "instance",
    "_Feature"
   ],
   "window_display": false
  }
 },
 "nbformat": 4,
 "nbformat_minor": 5
}
